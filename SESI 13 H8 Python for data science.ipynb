{
 "cells": [
  {
   "cell_type": "markdown",
   "metadata": {},
   "source": [
    "# Hacktiv8 Python For Data Science // S.13 // Classification"
   ]
  },
  {
   "cell_type": "markdown",
   "metadata": {},
   "source": [
    "## Klasifikasi\n",
    "\n",
    "Klasifikasi adalah bidang yang sangat penting dalam pembelajaran supervised machine learning. Sejumlah besar masalah pembelajaran mesin penting berada dalam area ini. Ada banyak metode klasifikasi, dan regresi logistik adalah salah satunya.\n",
    "\n",
    "## Apa itu Klasifikasi?\n",
    "\n",
    "Algoritma pembelajaran mesin yang diawasi menentukan model yang menangkap hubungan di antara data. Klasifikasi adalah area pembelajaran mesin yang diawasi yang mencoba memprediksi kelas atau kategori mana yang dimiliki beberapa entitas, berdasarkan fitur-fiturnya.\n",
    "\n",
    "Misalnya, Anda dapat menganalisis karyawan beberapa perusahaan dan mencoba membangun ketergantungan pada fitur atau variabel, seperti tingkat pendidikan, jumlah tahun di posisi saat ini, usia, gaji, peluang untuk dipromosikan, dan sebagainya.\n",
    "\n",
    "Himpunan data yang terkait dengan satu karyawan adalah satu observasi. Fitur atau variabel dapat mengambil salah satu dari dua bentuk:\n",
    "\n",
    "- Variabel independen, juga disebut input atau prediktor, tidak bergantung pada fitur menarik lainnya (atau setidaknya Anda berasumsi demikian untuk tujuan analisis).\n",
    "- Variabel dependen, juga disebut output atau respons, tergantung pada variabel independen.\n",
    "\n",
    "Dalam contoh di atas di mana Anda menganalisis karyawan, Anda mungkin menganggap tingkat pendidikan, waktu pada posisi saat ini, dan usia sama-sama independen, dan menganggap mereka sebagai input. Gaji dan peluang untuk promosi dapat berupa output yang bergantung pada input.\n",
    "\n",
    "Sifat variabel dependen membedakan masalah regresi dan klasifikasi. Masalah regresi memiliki keluaran yang terus menerus dan biasanya tidak terbatas. Contohnya adalah ketika Anda memperkirakan gaji sebagai fungsi dari tingkat pengalaman dan pendidikan. Di sisi lain, masalah klasifikasi memiliki keluaran diskrit dan terbatas yang disebut kelas atau kategori. \n",
    "\n",
    "Misalnya, memprediksi apakah seorang karyawan akan dipromosikan atau tidak (benar atau salah) adalah masalah klasifikasi.\n",
    "Ada dua jenis utama masalah klasifikasi:\n",
    "\n",
    "- Klasifikasi biner atau binomial: tepat dua kelas untuk dipilih (biasanya 0 dan 1, benar dan salah, atau positif dan negatif)\n",
    "- Klasifikasi multi-kelas atau multinomial: tiga kelas atau lebih dari output yang dapat dipilih\n",
    "\n",
    "Jika hanya ada satu variabel input, maka biasanya dilambangkan dengan 𝑥. Untuk lebih dari satu input, Anda biasanya akan melihat notasi vektor 𝐱 = (𝑥₁, ..., 𝑥ᵣ), di mana 𝑟 adalah jumlah prediktor (atau fitur independen). Variabel output sering dilambangkan dengan 𝑦 dan mengambil nilai 0 atau 1.\n",
    "\n",
    "## Kapan membutuhkan klasifikasi?\n",
    "\n",
    "Anda dapat menerapkan klasifikasi di banyak bidang sains dan teknologi. Misalnya, algoritma klasifikasi teks digunakan untuk memisahkan email yang sah dan spam, serta komentar positif dan negatif. Anda dapat memeriksa Klasifikasi Teks Praktis Dengan Python dan Keras untuk mendapatkan beberapa wawasan tentang topik ini. Contoh lain melibatkan aplikasi medis, klasifikasi biologis, penilaian kredit, dan banyak lagi.\n",
    "\n",
    "Tugas pengenalan gambar sering direpresentasikan sebagai masalah klasifikasi. Misalnya, Anda mungkin bertanya apakah suatu gambar menggambarkan wajah manusia atau tidak, atau apakah itu tikus atau gajah, atau digit mana dari nol hingga sembilan yang diwakilinya, dan sebagainya.\n",
    "\n",
    "## Logistic Regression di dalam python\n",
    "\n",
    "### Logistic Regression menggunakan scikit-learn\n",
    "\n",
    "Contoh pertama terkait dengan masalah klasifikasi biner varian tunggal. Ini adalah jenis masalah klasifikasi yang paling mudah. Ada beberapa langkah umum yang akan Anda ambil saat menyiapkan model klasifikasi:\n",
    "\n",
    "- Mengimpor paket, fungsi, dan kelas\n",
    "- Dapatkan data untuk dikerjakan dan, jika perlu, ubahlah\n",
    "- Buat model klasifikasi dan latih (atau paskan) dengan data yang ada\n",
    "- Evaluasi model Anda untuk melihat apakah kinerjanya memuaskan\n",
    "\n",
    "Model yang cukup baik yang Anda tetapkan dapat digunakan untuk membuat prediksi lebih lanjut terkait dengan data baru yang tidak terlihat. Prosedur di atas adalah sama untuk klasifikasi dan regresi.\n",
    "\n",
    "Langkah 1: Paket Impor, Fungsi, dan Kelas\n",
    "\n",
    "Pertama, Anda harus mengimpor Matplotlib untuk visualisasi dan NumPy untuk operasi array. Anda juga perlu LogisticRegression, klasifikasi_report (), dan confusion_matrix () dari scikit-learn:"
   ]
  },
  {
   "cell_type": "code",
   "execution_count": 1,
   "metadata": {},
   "outputs": [],
   "source": [
    "import matplotlib.pyplot as plt\n",
    "import numpy as np\n",
    "from sklearn.linear_model import LogisticRegression\n",
    "from sklearn.metrics import classification_report, confusion_matrix"
   ]
  },
  {
   "cell_type": "markdown",
   "metadata": {},
   "source": [
    "Sekarang Anda telah mengimpor semua yang Anda butuhkan untuk regresi logistik di Python dengan scikit-learn!\n",
    "\n",
    "Langkah 2: Dapatkan Data Dalam praktiknya, Anda biasanya memiliki beberapa data untuk dikerjakan. Untuk tujuan contoh ini, mari kita buat array untuk nilai input (𝑥) dan output (𝑦):"
   ]
  },
  {
   "cell_type": "code",
   "execution_count": 2,
   "metadata": {},
   "outputs": [],
   "source": [
    "x = np.arange(10).reshape(-1, 1)\n",
    "y = np.array([0, 0, 0, 0, 1, 1, 1, 1, 1, 1])"
   ]
  },
  {
   "cell_type": "markdown",
   "metadata": {},
   "source": [
    "Input dan output harus berupa array NumPy (turunan kelas numpy.ndarray) atau objek serupa. numpy.arange () menciptakan array nilai berturut-turut, spasi sama dalam rentang tertentu. Untuk informasi lebih lanjut tentang fungsi ini, periksa dokumentasi resmi atau NumPy arange (): Cara Menggunakan np.arange ().\n",
    "\n",
    "Array x harus dua dimensi. Itu harus memiliki satu kolom untuk setiap input, dan jumlah baris harus sama dengan jumlah pengamatan. Untuk membuat x dua dimensi, Anda menerapkan .reshape () dengan argumen -1 untuk mendapatkan baris sebanyak yang diperlukan dan 1 untuk mendapatkan satu kolom. Untuk informasi lebih lanjut tentang .reshape (), Anda dapat melihat dokumentasi resmi. Beginilah tampilan x dan y sekarang:"
   ]
  },
  {
   "cell_type": "code",
   "execution_count": 3,
   "metadata": {},
   "outputs": [
    {
     "name": "stdout",
     "output_type": "stream",
     "text": [
      "[[0]\n",
      " [1]\n",
      " [2]\n",
      " [3]\n",
      " [4]\n",
      " [5]\n",
      " [6]\n",
      " [7]\n",
      " [8]\n",
      " [9]] [0 0 0 0 1 1 1 1 1 1]\n"
     ]
    }
   ],
   "source": [
    "print(x, y)"
   ]
  },
  {
   "cell_type": "markdown",
   "metadata": {},
   "source": [
    "x memiliki dua dimensi:\n",
    "\n",
    "Satu kolom untuk input tunggal Sepuluh baris, masing-masing sesuai dengan satu pengamatan y adalah satu dimensi dengan sepuluh item. Sekali lagi, setiap item berhubungan dengan satu pengamatan. Ini hanya berisi nol dan satu karena ini adalah masalah klasifikasi biner.\n",
    "\n",
    "Langkah 3: Buat Model dan Latih\n",
    "\n",
    "Setelah input dan output disiapkan, Anda dapat membuat dan menentukan model klasifikasi Anda. Anda akan mewakilinya dengan turunan kelas LogisticRegression:"
   ]
  },
  {
   "cell_type": "code",
   "execution_count": 4,
   "metadata": {},
   "outputs": [],
   "source": [
    "model = LogisticRegression(solver='liblinear', random_state=0)"
   ]
  },
  {
   "cell_type": "markdown",
   "metadata": {},
   "source": [
    "Pernyataan di atas membuat turunan LogisticRegression dan mengikat referensi ke model variabel. LogisticRegression memiliki beberapa parameter opsional yang menentukan perilaku model dan pendekatan:\n",
    "\n",
    "- penalty adalah string ('l2' secara default) yang memutuskan apakah ada regularisasi dan pendekatan mana yang digunakan. Pilihan lain adalah 'l1', 'elasticnet', dan 'none'.\n",
    "- dual adalah Boolean (False secara default) yang memutuskan apakah akan menggunakan primal (ketika False) atau formulasi ganda (ketika True).\n",
    "- tol adalah angka floating-point (0,0001 secara default) yang mendefinisikan toleransi untuk menghentikan prosedur.\n",
    "- C adalah angka floating-point positif (1,0 secara default) yang mendefinisikan kekuatan relatif regularisasi. Nilai yang lebih kecil menunjukkan regularisasi yang lebih kuat.\n",
    "- fit_intercept adalah Boolean (Benar secara default) yang memutuskan apakah akan menghitung intersep 𝑏₀ (saat Benar) atau menganggapnya sama dengan nol (bila Salah).\n",
    "- intercept_scaling adalah angka floating-point (1.0 secara default) yang menentukan skala pencegatan 𝑏₀.\n",
    "- class_weight adalah kamus, 'balanced', atau Tidak Ada (standar) yang mendefinisikan bobot yang terkait dengan masing-masing kelas. Ketika Tidak Ada, semua kelas memiliki bobot satu.\n",
    "- random_state adalah integer, turunan dari numpy.RandomState, atau None (default) yang menentukan generator nomor pseudo-acak apa yang digunakan.\n",
    "- solver adalah string ('liblinear' secara default) yang memutuskan solver apa yang akan digunakan untuk menyesuaikan model. Pilihan lain adalah 'newton-cg', 'lbfgs', 'sag', dan 'saga'.\n",
    "- max_iter adalah bilangan bulat (100 secara default) yang menentukan jumlah iterasi maksimum oleh pemecah selama pemasangan model.\n",
    "- multi_class adalah string ('ovr' secara default) yang memutuskan pendekatan yang akan digunakan untuk menangani beberapa kelas. Pilihan lain adalah 'multinomial' dan 'auto'.\n",
    "- verbose adalah integer non-negatif (0 secara default) yang mendefinisikan verbositas untuk pemecah 'liblinear' dan 'lbfgs'.\n",
    "- warm_start adalah Boolean (False secara default) yang memutuskan apakah akan menggunakan kembali solusi yang diperoleh sebelumnya.\n",
    "- n_jobs adalah bilangan bulat atau Tidak Ada (default) yang menentukan jumlah proses paralel yang digunakan. Biasanya tidak ada yang berarti menggunakan satu inti, sedangkan -1 berarti menggunakan semua inti yang tersedia.\n",
    "- l1_ratio adalah angka titik-mengambang antara nol dan satu atau Tidak Ada (default). Ini mendefinisikan kepentingan relatif dari bagian L1 dalam regularisasi jaring-elastis.\n",
    "\n",
    "Anda harus hati-hati mencocokkan metode solver dan regularisasi karena beberapa alasan:\n",
    "\n",
    "- Pemecah 'liblinear' tidak bekerja tanpa regularisasi.\n",
    "- 'newton-cg', 'sag', 'saga', dan 'lbfgs' tidak mendukung regularisasi L1.\n",
    "- 'saga' adalah satu-satunya solver yang mendukung regularisasi elastis-net.\n",
    "\n",
    "Setelah model dibuat, Anda harus menyesuaikan (atau melatihnya). Model fitting adalah proses penentuan koefisien 𝑏₀, 𝑏₁, ..., 𝑏ᵣ yang sesuai dengan nilai terbaik dari fungsi biaya. Anda cocok dengan model .fit ():"
   ]
  },
  {
   "cell_type": "code",
   "execution_count": 5,
   "metadata": {},
   "outputs": [
    {
     "data": {
      "text/plain": [
       "LogisticRegression(C=1.0, class_weight=None, dual=False, fit_intercept=True,\n",
       "                   intercept_scaling=1, l1_ratio=None, max_iter=100,\n",
       "                   multi_class='warn', n_jobs=None, penalty='l2',\n",
       "                   random_state=0, solver='liblinear', tol=0.0001, verbose=0,\n",
       "                   warm_start=False)"
      ]
     },
     "execution_count": 5,
     "metadata": {},
     "output_type": "execute_result"
    }
   ],
   "source": [
    "model.fit(x, y)"
   ]
  },
  {
   "cell_type": "markdown",
   "metadata": {},
   "source": [
    "Anda dapat menggunakan fakta bahwa .fit () mengembalikan contoh model dan rantai dua pernyataan terakhir. Mereka setara dengan baris kode berikut:"
   ]
  },
  {
   "cell_type": "code",
   "execution_count": 6,
   "metadata": {},
   "outputs": [],
   "source": [
    "model = LogisticRegression(solver='liblinear', random_state=0).fit(x, y)"
   ]
  },
  {
   "cell_type": "markdown",
   "metadata": {},
   "source": [
    "Pada titik ini, Anda telah menentukan model klasifikasi.\n",
    "\n",
    "Anda dapat dengan cepat mendapatkan atribut dari model Anda. Misalnya, atribut .classes_ mewakili array nilai berbeda yang Anda ambil:"
   ]
  },
  {
   "cell_type": "code",
   "execution_count": 7,
   "metadata": {},
   "outputs": [
    {
     "data": {
      "text/plain": [
       "array([0, 1])"
      ]
     },
     "execution_count": 7,
     "metadata": {},
     "output_type": "execute_result"
    }
   ],
   "source": [
    "model.classes_"
   ]
  },
  {
   "cell_type": "markdown",
   "metadata": {},
   "source": [
    "Ini adalah contoh klasifikasi biner, dan y dapat berupa 0 atau 1, seperti ditunjukkan di atas.\n",
    "Anda juga bisa mendapatkan nilai kemiringan 𝑏₁ dan intersep 𝑏₀ dari fungsi linear 𝑓 seperti:"
   ]
  },
  {
   "cell_type": "code",
   "execution_count": 8,
   "metadata": {},
   "outputs": [
    {
     "name": "stdout",
     "output_type": "stream",
     "text": [
      "[-1.04608067] [[0.51491375]]\n"
     ]
    }
   ],
   "source": [
    "print(model.intercept_, model.coef_)"
   ]
  },
  {
   "cell_type": "markdown",
   "metadata": {},
   "source": [
    "Seperti yang Anda lihat, 𝑏₀ diberikan di dalam array satu dimensi, sedangkan 𝑏₁ di dalam array dua dimensi. Anda menggunakan atribut .intercept dan .coef untuk mendapatkan hasil ini.\n",
    "\n",
    "Langkah 4: Evaluasi Model\n",
    "\n",
    "Setelah model didefinisikan, Anda dapat memeriksa kinerjanya dengan .predict_proba (), yang mengembalikan matriks probabilitas bahwa output yang diprediksi sama dengan nol atau satu:"
   ]
  },
  {
   "cell_type": "code",
   "execution_count": 9,
   "metadata": {},
   "outputs": [
    {
     "data": {
      "text/plain": [
       "array([[0.74002157, 0.25997843],\n",
       "       [0.62975524, 0.37024476],\n",
       "       [0.5040632 , 0.4959368 ],\n",
       "       [0.37785549, 0.62214451],\n",
       "       [0.26628093, 0.73371907],\n",
       "       [0.17821501, 0.82178499],\n",
       "       [0.11472079, 0.88527921],\n",
       "       [0.07186982, 0.92813018],\n",
       "       [0.04422513, 0.95577487],\n",
       "       [0.02690569, 0.97309431]])"
      ]
     },
     "execution_count": 9,
     "metadata": {},
     "output_type": "execute_result"
    }
   ],
   "source": [
    "model.predict_proba(x)"
   ]
  },
  {
   "cell_type": "markdown",
   "metadata": {},
   "source": [
    "Dalam matriks di atas, setiap baris berhubungan dengan satu pengamatan. Kolom pertama adalah probabilitas output yang diprediksi menjadi nol, yaitu 1 - 𝑝 (𝑥). Kolom kedua adalah probabilitas bahwa output adalah satu, atau 𝑝 (𝑥).\n",
    "Anda bisa mendapatkan prediksi aktual, berdasarkan matriks probabilitas dan nilai 𝑝 (𝑥), dengan .predict ():"
   ]
  },
  {
   "cell_type": "code",
   "execution_count": 10,
   "metadata": {},
   "outputs": [
    {
     "data": {
      "text/plain": [
       "array([0, 0, 0, 1, 1, 1, 1, 1, 1, 1])"
      ]
     },
     "execution_count": 10,
     "metadata": {},
     "output_type": "execute_result"
    }
   ],
   "source": [
    "model.predict(x)"
   ]
  },
  {
   "cell_type": "markdown",
   "metadata": {},
   "source": [
    "Fungsi ini mengembalikan nilai output yang diprediksi sebagai array satu dimensi."
   ]
  },
  {
   "cell_type": "markdown",
   "metadata": {},
   "source": [
    "Ketika Anda memiliki sembilan dari sepuluh pengamatan yang diklasifikasikan dengan benar, keakuratan model Anda sama dengan 9/10 = 0,9, yang dapat Anda peroleh dengan .score ():"
   ]
  },
  {
   "cell_type": "code",
   "execution_count": 11,
   "metadata": {},
   "outputs": [
    {
     "data": {
      "text/plain": [
       "0.9"
      ]
     },
     "execution_count": 11,
     "metadata": {},
     "output_type": "execute_result"
    }
   ],
   "source": [
    "model.score(x, y)"
   ]
  },
  {
   "cell_type": "markdown",
   "metadata": {},
   "source": [
    ".score () mengambil input dan output sebagai argumen dan mengembalikan rasio jumlah prediksi yang benar dengan jumlah pengamatan.\n",
    "\n",
    "Anda bisa mendapatkan informasi lebih lanjut tentang keakuratan model dengan matriks kebingungan. Dalam kasus klasifikasi biner, matriks kebingungan menunjukkan angka-angka berikut:\n",
    "- True Negatives di posisi kiri atas\n",
    "- Negatif palsu di posisi kiri bawah\n",
    "- Positif palsu di posisi kanan atas\n",
    "- Positif sejati di posisi kanan bawah\n",
    "Untuk membuat matriks kebingungan, Anda bisa menggunakan confusion_matrix () dan memberikan output aktual dan prediksi sebagai argumen:"
   ]
  },
  {
   "cell_type": "code",
   "execution_count": 12,
   "metadata": {},
   "outputs": [
    {
     "data": {
      "text/plain": [
       "array([[3, 1],\n",
       "       [0, 6]], dtype=int64)"
      ]
     },
     "execution_count": 12,
     "metadata": {},
     "output_type": "execute_result"
    }
   ],
   "source": [
    "confusion_matrix(y, model.predict(x))"
   ]
  },
  {
   "cell_type": "markdown",
   "metadata": {},
   "source": [
    "matriks menunjukkan hal berikut:\n",
    "- Tiga prediksi true negatives: Tiga pengamatan pertama adalah nol yang diprediksi dengan benar.\n",
    "- Tidak ada prediksi false negatives : Ini adalah prediksi yang salah sebagai nol.\n",
    "- Satu prediksi false positives: Pengamatan keempat adalah nol yang salah diprediksi.\n",
    "- Enam prediksi true positives: Enam pengamatan terakhir adalah yang diprediksi dengan benar.\n",
    "Seringkali berguna untuk memvisualisasikan matriks kebingungan. Anda dapat melakukannya dengan .imshow () dari Matplotlib, yang menerima matriks kebingungan sebagai argumen:"
   ]
  },
  {
   "cell_type": "code",
   "execution_count": 13,
   "metadata": {},
   "outputs": [
    {
     "data": {
      "image/png": "[encoded data removed]",
      "text/plain": [
       "<Figure size 576x576 with 1 Axes>"
      ]
     },
     "metadata": {
      "needs_background": "light"
     },
     "output_type": "display_data"
    }
   ],
   "source": [
    "\n",
    "cm = confusion_matrix(y, model.predict(x))\n",
    "\n",
    "fig, ax = plt.subplots(figsize=(8, 8))\n",
    "ax.imshow(cm)\n",
    "ax.grid(False)\n",
    "ax.xaxis.set(ticks=(0, 1), ticklabels=('Predicted 0s', 'Predicted 1s'))\n",
    "ax.yaxis.set(ticks=(0, 1), ticklabels=('Actual 0s', 'Actual 1s'))\n",
    "ax.set_ylim(1.5, -0.5)\n",
    "for i in range(2):\n",
    "    for j in range(2):\n",
    "        ax.text(j, i, cm[i, j], ha='center', va='center', color='red')\n",
    "plt.show()"
   ]
  },
  {
   "cell_type": "markdown",
   "metadata": {},
   "source": [
    "Dalam gambar ini, warna yang berbeda mewakili angka yang berbeda dan warna yang sama mewakili angka yang sama. Heatmaps adalah cara yang bagus dan nyaman untuk merepresentasikan sebuah matriks.\n",
    "\n",
    "Anda bisa mendapatkan laporan yang lebih komprehensif tentang klasifikasi dengan classification_report():"
   ]
  },
  {
   "cell_type": "code",
   "execution_count": 14,
   "metadata": {},
   "outputs": [
    {
     "name": "stdout",
     "output_type": "stream",
     "text": [
      "              precision    recall  f1-score   support\n",
      "\n",
      "           0       1.00      0.75      0.86         4\n",
      "           1       0.86      1.00      0.92         6\n",
      "\n",
      "    accuracy                           0.90        10\n",
      "   macro avg       0.93      0.88      0.89        10\n",
      "weighted avg       0.91      0.90      0.90        10\n",
      "\n"
     ]
    }
   ],
   "source": [
    "print(classification_report(y, model.predict(x)))"
   ]
  },
  {
   "cell_type": "markdown",
   "metadata": {},
   "source": [
    "Anda dapat meningkatkan model Anda dengan mengatur parameter yang berbeda. Misalnya, mari kita bekerja dengan kekuatan regularisasi C sama dengan 10.0, alih-alih nilai default 1.0:"
   ]
  },
  {
   "cell_type": "code",
   "execution_count": 15,
   "metadata": {},
   "outputs": [
    {
     "data": {
      "text/plain": [
       "LogisticRegression(C=10.0, class_weight=None, dual=False, fit_intercept=True,\n",
       "                   intercept_scaling=1, l1_ratio=None, max_iter=100,\n",
       "                   multi_class='warn', n_jobs=None, penalty='l2',\n",
       "                   random_state=0, solver='liblinear', tol=0.0001, verbose=0,\n",
       "                   warm_start=False)"
      ]
     },
     "execution_count": 15,
     "metadata": {},
     "output_type": "execute_result"
    }
   ],
   "source": [
    "model = LogisticRegression(solver='liblinear', C=10.0, random_state=0)\n",
    "model.fit(x, y)"
   ]
  },
  {
   "cell_type": "code",
   "execution_count": 16,
   "metadata": {},
   "outputs": [
    {
     "name": "stdout",
     "output_type": "stream",
     "text": [
      "[-3.51335372] [[1.12066084]]\n"
     ]
    }
   ],
   "source": [
    "print(model.intercept_, model.coef_)"
   ]
  },
  {
   "cell_type": "code",
   "execution_count": 17,
   "metadata": {},
   "outputs": [
    {
     "name": "stdout",
     "output_type": "stream",
     "text": [
      "[[0.97106534 0.02893466]\n",
      " [0.9162684  0.0837316 ]\n",
      " [0.7810904  0.2189096 ]\n",
      " [0.53777071 0.46222929]\n",
      " [0.27502212 0.72497788]\n",
      " [0.11007743 0.88992257]\n",
      " [0.03876835 0.96123165]\n",
      " [0.01298011 0.98701989]\n",
      " [0.0042697  0.9957303 ]\n",
      " [0.00139621 0.99860379]]\n"
     ]
    }
   ],
   "source": [
    "print(model.predict_proba(x))"
   ]
  },
  {
   "cell_type": "code",
   "execution_count": 18,
   "metadata": {},
   "outputs": [
    {
     "name": "stdout",
     "output_type": "stream",
     "text": [
      "[0 0 0 0 1 1 1 1 1 1]\n"
     ]
    }
   ],
   "source": [
    "print(model.predict(x))"
   ]
  },
  {
   "cell_type": "markdown",
   "metadata": {},
   "source": [
    "Seperti yang Anda lihat, nilai absolut intersep 𝑏₀ dan koefisien 𝑏₁ lebih besar. Hal ini terjadi karena nilai C yang lebih besar berarti regularisasi yang lebih lemah, atau hukuman yang lebih rendah terkait dengan nilai 𝑏₀ dan 𝑏₁ yang tinggi.\n",
    "\n",
    "Nilai 𝑏₀ dan 𝑏₁ yang berbeda menyiratkan perubahan logika 𝑓 (𝑥), nilai probabilitas yang berbeda 𝑝 (𝑥), bentuk garis regresi yang berbeda, dan kemungkinan perubahan dalam output prediksi lain dan kinerja klasifikasi. Nilai batas 𝑥 yang 𝑝 (𝑥) = 0,5 dan 𝑓 (𝑥) = 0 lebih tinggi sekarang. Itu di atas 3. Dalam hal ini, Anda memperoleh semua prediksi yang benar, seperti yang \n",
    "\n",
    "ditunjukkan oleh keakuratan, matriks kebingungan, dan laporan klasifikasi:"
   ]
  },
  {
   "cell_type": "code",
   "execution_count": 19,
   "metadata": {},
   "outputs": [
    {
     "data": {
      "text/plain": [
       "1.0"
      ]
     },
     "execution_count": 19,
     "metadata": {},
     "output_type": "execute_result"
    }
   ],
   "source": [
    "model.score(x, y)"
   ]
  },
  {
   "cell_type": "code",
   "execution_count": 20,
   "metadata": {},
   "outputs": [
    {
     "data": {
      "text/plain": [
       "array([[4, 0],\n",
       "       [0, 6]], dtype=int64)"
      ]
     },
     "execution_count": 20,
     "metadata": {},
     "output_type": "execute_result"
    }
   ],
   "source": [
    "confusion_matrix(y, model.predict(x))"
   ]
  },
  {
   "cell_type": "code",
   "execution_count": 21,
   "metadata": {},
   "outputs": [
    {
     "name": "stdout",
     "output_type": "stream",
     "text": [
      "              precision    recall  f1-score   support\n",
      "\n",
      "           0       1.00      1.00      1.00         4\n",
      "           1       1.00      1.00      1.00         6\n",
      "\n",
      "    accuracy                           1.00        10\n",
      "   macro avg       1.00      1.00      1.00        10\n",
      "weighted avg       1.00      1.00      1.00        10\n",
      "\n"
     ]
    }
   ],
   "source": [
    "print(classification_report(y, model.predict(x)))"
   ]
  },
  {
   "cell_type": "markdown",
   "metadata": {},
   "source": [
    "## Contoh 2\n",
    "Mari kita selesaikan masalah klasifikasi lainnya. Ini mirip dengan yang sebelumnya, kecuali bahwa outputnya berbeda pada nilai kedua. Kode mirip dengan kasus sebelumnya:"
   ]
  },
  {
   "cell_type": "code",
   "execution_count": 22,
   "metadata": {},
   "outputs": [],
   "source": [
    "# Step 1: Import packages, functions, and classes\n",
    "import numpy as np\n",
    "from sklearn.linear_model import LogisticRegression\n",
    "from sklearn.metrics import classification_report, confusion_matrix\n",
    "\n",
    "# Step 2: Get data\n",
    "x = np.arange(10).reshape(-1, 1)\n",
    "y = np.array([0, 1, 0, 0, 1, 1, 1, 1, 1, 1])\n",
    "\n",
    "# Step 3: Create a model and train it\n",
    "model = LogisticRegression(solver='liblinear', C=10.0, random_state=0)\n",
    "model.fit(x, y)\n",
    "\n",
    "# Step 4: Evaluate the model\n",
    "p_pred = model.predict_proba(x)\n",
    "y_pred = model.predict(x)\n",
    "score_ = model.score(x, y)\n",
    "conf_m = confusion_matrix(y, y_pred)\n",
    "report = classification_report(y, y_pred)"
   ]
  },
  {
   "cell_type": "code",
   "execution_count": 23,
   "metadata": {},
   "outputs": [
    {
     "name": "stdout",
     "output_type": "stream",
     "text": [
      "x:\n",
      "[[0]\n",
      " [1]\n",
      " [2]\n",
      " [3]\n",
      " [4]\n",
      " [5]\n",
      " [6]\n",
      " [7]\n",
      " [8]\n",
      " [9]]\n"
     ]
    }
   ],
   "source": [
    "print('x:', x, sep='\\n')"
   ]
  },
  {
   "cell_type": "code",
   "execution_count": 24,
   "metadata": {},
   "outputs": [
    {
     "name": "stdout",
     "output_type": "stream",
     "text": [
      "y:\n",
      "[0 1 0 0 1 1 1 1 1 1]\n",
      "\n"
     ]
    }
   ],
   "source": [
    "print('y:', y, sep='\\n', end='\\n\\n')"
   ]
  },
  {
   "cell_type": "code",
   "execution_count": 25,
   "metadata": {},
   "outputs": [
    {
     "name": "stdout",
     "output_type": "stream",
     "text": [
      "intercept: [-1.51632619]\n",
      "coef: [[0.703457]]\n",
      "\n",
      "p_pred:\n",
      "[[0.81999686 0.18000314]\n",
      " [0.69272057 0.30727943]\n",
      " [0.52732579 0.47267421]\n",
      " [0.35570732 0.64429268]\n",
      " [0.21458576 0.78541424]\n",
      " [0.11910229 0.88089771]\n",
      " [0.06271329 0.93728671]\n",
      " [0.03205032 0.96794968]\n",
      " [0.0161218  0.9838782 ]\n",
      " [0.00804372 0.99195628]]\n",
      "\n",
      "y_pred: [0 0 0 1 1 1 1 1 1 1]\n",
      "\n",
      "score_: 0.8\n",
      "\n",
      "conf_m:\n",
      "[[2 1]\n",
      " [1 6]]\n",
      "\n",
      "report:\n",
      "              precision    recall  f1-score   support\n",
      "\n",
      "           0       0.67      0.67      0.67         3\n",
      "           1       0.86      0.86      0.86         7\n",
      "\n",
      "    accuracy                           0.80        10\n",
      "   macro avg       0.76      0.76      0.76        10\n",
      "weighted avg       0.80      0.80      0.80        10\n",
      "\n"
     ]
    }
   ],
   "source": [
    "print('intercept:', model.intercept_)\n",
    "print('coef:', model.coef_, end='\\n\\n')\n",
    "print('p_pred:', p_pred, sep='\\n', end='\\n\\n')\n",
    "print('y_pred:', y_pred, end='\\n\\n')\n",
    "print('score_:', score_, end='\\n\\n')\n",
    "print('conf_m:', conf_m, sep='\\n', end='\\n\\n')\n",
    "print('report:', report, sep='\\n')"
   ]
  },
  {
   "cell_type": "markdown",
   "metadata": {},
   "source": [
    "Dalam hal ini, skor (atau akurasi) adalah 0,8. Ada dua observasi yang diklasifikasikan secara tidak benar. Salah satunya adalah False ngatives, sementara yang lain adalah false positives."
   ]
  },
  {
   "cell_type": "markdown",
   "metadata": {},
   "source": [
    "## Logistic Regression in Python : Handwriting Recognition\n",
    "\n",
    "Contoh-contoh sebelumnya menggambarkan implementasi regresi logistik di Python, serta beberapa detail yang berkaitan dengan metode ini. Contoh berikutnya akan menunjukkan kepada Anda bagaimana menggunakan regresi logistik untuk menyelesaikan masalah klasifikasi dunia nyata. Pendekatannya sangat mirip dengan apa yang sudah Anda lihat, tetapi dengan dataset yang lebih besar dan beberapa masalah tambahan.\n",
    "\n",
    "Contoh ini adalah tentang pengenalan gambar. Untuk lebih tepatnya, Anda akan bekerja pada pengenalan digit tulisan tangan. Anda akan menggunakan dataset dengan 1797 pengamatan, yang masing-masing adalah gambar dari satu digit tulisan tangan. Setiap gambar memiliki 64 px, dengan lebar 8 px dan tinggi 8 px.\n",
    "\n",
    "Input (𝐱) adalah vektor dengan 64 dimensi atau nilai. Setiap vektor input menggambarkan satu gambar. Masing-masing dari 64 nilai mewakili satu piksel gambar. Nilai input adalah bilangan bulat antara 0 dan 16, tergantung pada warna abu-abu untuk piksel yang sesuai. Output (𝑦) untuk setiap pengamatan adalah bilangan bulat antara 0 dan 9, konsisten dengan digit pada gambar. Ada sepuluh kelas secara total, masing-masing sesuai dengan satu gambar.\n",
    "\n",
    "Langkah 1: Paket Impor\n",
    "\n",
    "Anda harus mengimpor Matplotlib, NumPy, dan beberapa fungsi dan kelas dari scikit-learn:"
   ]
  },
  {
   "cell_type": "code",
   "execution_count": 26,
   "metadata": {},
   "outputs": [],
   "source": [
    "import matplotlib.pyplot as plt\n",
    "import numpy as np\n",
    "from sklearn.datasets import load_digits\n",
    "from sklearn.linear_model import LogisticRegression\n",
    "from sklearn.metrics import classification_report, confusion_matrix\n",
    "from sklearn.model_selection import train_test_split\n",
    "from sklearn.preprocessing import StandardScaler"
   ]
  },
  {
   "cell_type": "markdown",
   "metadata": {},
   "source": [
    "Anda memiliki semua fungsi yang Anda perlukan untuk melakukan klasifikasi.\n",
    "\n",
    "Langkah 2a: Dapatkan Data\n",
    "\n",
    "Anda dapat mengambil dataset secara langsung dari scikit-learn dengan load_digits (). Ini mengembalikan tuple input dan output:"
   ]
  },
  {
   "cell_type": "code",
   "execution_count": 27,
   "metadata": {},
   "outputs": [],
   "source": [
    "x, y = load_digits(return_X_y=True)"
   ]
  },
  {
   "cell_type": "code",
   "execution_count": 28,
   "metadata": {},
   "outputs": [
    {
     "name": "stdout",
     "output_type": "stream",
     "text": [
      "[[ 0.  0.  5. ...  0.  0.  0.]\n",
      " [ 0.  0.  0. ... 10.  0.  0.]\n",
      " [ 0.  0.  0. ... 16.  9.  0.]\n",
      " ...\n",
      " [ 0.  0.  1. ...  6.  0.  0.]\n",
      " [ 0.  0.  2. ... 12.  0.  0.]\n",
      " [ 0.  0. 10. ... 12.  1.  0.]]\n",
      "[0 1 2 ... 8 9 8]\n"
     ]
    }
   ],
   "source": [
    "print(x)\n",
    "print(y)"
   ]
  },
  {
   "cell_type": "markdown",
   "metadata": {},
   "source": [
    "Itu data Anda untuk bekerja. x adalah array multi-dimensi dengan 1797 baris dan 64 kolom. Ini berisi bilangan bulat dari 0 hingga 16. y adalah array satu dimensi dengan 1797 bilangan bulat antara 0 dan 9.\n",
    "\n",
    "Langkah 2b: Pisahkan Data\n",
    "\n",
    "Ini adalah praktik yang baik dan diadopsi secara luas untuk membagi dataset yang Anda kerjakan menjadi dua subset. Ini adalah set pelatihan dan set tes. Perpecahan ini biasanya dilakukan secara acak. Anda harus menggunakan set pelatihan yang sesuai dengan model Anda. Setelah model dipasang, Anda mengevaluasi kinerjanya dengan set tes. Penting untuk tidak menggunakan set tes dalam proses pemasangan model. Pendekatan ini memungkinkan evaluasi model yang tidak bias.\n",
    "Salah satu cara untuk membagi dataset Anda menjadi pelatihan dan set tes adalah dengan menerapkan train_test_split ():"
   ]
  },
  {
   "cell_type": "code",
   "execution_count": 29,
   "metadata": {},
   "outputs": [],
   "source": [
    "x_train, x_test, y_train, y_test = train_test_split(x, y, test_size=0.2, random_state=0)"
   ]
  },
  {
   "cell_type": "markdown",
   "metadata": {},
   "source": [
    "train_test_split () menerima x dan y. Itu juga membutuhkan test_size, yang menentukan ukuran set tes, dan random_state untuk menentukan keadaan generator nomor pseudo-acak, serta argumen opsional lainnya. Fungsi ini mengembalikan daftar dengan empat array:\n",
    "\n",
    "x_train: bagian x yang digunakan agar sesuai dengan model x_test: bagian x yang digunakan untuk mengevaluasi model \n",
    "\n",
    "y_train: bagian y yang sesuai dengan x_train \n",
    "\n",
    "y_test: bagian y yang sesuai dengan x_test Setelah data Anda dibagi, Anda dapat lupakan x_test dan y_test sampai Anda mendefinisikan model Anda.\n",
    "\n",
    "Langkah 2c: Skala Data\n",
    "\n",
    "Standardisasi adalah proses mengubah data sedemikian rupa sehingga rata-rata setiap kolom menjadi sama dengan nol, dan standar deviasi setiap kolom adalah satu. Dengan cara ini, Anda mendapatkan skala yang sama untuk semua kolom. Ambil langkah-langkah berikut untuk membakukan data Anda:\n",
    "\n",
    "- Hitung mean dan standar deviasi untuk setiap kolom.\n",
    "- Kurangi rata-rata yang sesuai dari setiap elemen.\n",
    "- Bagilah perbedaan yang diperoleh dengan standar deviasi yang sesuai.\n",
    "Merupakan praktik yang baik untuk membakukan data input yang Anda gunakan untuk regresi logistik, meskipun dalam banyak kasus itu tidak perlu. Standarisasi dapat meningkatkan kinerja algoritma Anda. Ini membantu jika Anda perlu membandingkan dan menafsirkan bobot. Sangat penting ketika Anda menerapkan hukuman karena algoritma sebenarnya menghukum terhadap nilai-nilai besar bobot.\n",
    "\n",
    "Anda dapat membakukan input Anda dengan membuat instance dari StandardScaler dan memanggil .fit_transform () di atasnya:"
   ]
  },
  {
   "cell_type": "code",
   "execution_count": 30,
   "metadata": {},
   "outputs": [],
   "source": [
    "scaler = StandardScaler()\n",
    "x_train = scaler.fit_transform(x_train)"
   ]
  },
  {
   "cell_type": "markdown",
   "metadata": {},
   "source": [
    ".fit_transform () cocok dengan instance dari StandardScaler ke array yang diteruskan sebagai argumen, mentransformasikan array ini, dan mengembalikan array standar yang baru. Sekarang, x_train adalah larik input standar.\n",
    "\n",
    "Langkah 3: Buat Model dan Latih\n",
    "\n",
    "Langkah ini sangat mirip dengan contoh sebelumnya. Satu-satunya perbedaan adalah Anda menggunakan himpunan bagian x_train dan y_train agar sesuai dengan model. Sekali lagi, Anda harus membuat instance dari LogisticRegression dan memanggil .fit () di atasnya:"
   ]
  },
  {
   "cell_type": "code",
   "execution_count": 31,
   "metadata": {},
   "outputs": [
    {
     "data": {
      "text/plain": [
       "LogisticRegression(C=0.05, class_weight=None, dual=False, fit_intercept=True,\n",
       "                   intercept_scaling=1, l1_ratio=None, max_iter=100,\n",
       "                   multi_class='ovr', n_jobs=None, penalty='l2', random_state=0,\n",
       "                   solver='liblinear', tol=0.0001, verbose=0, warm_start=False)"
      ]
     },
     "execution_count": 31,
     "metadata": {},
     "output_type": "execute_result"
    }
   ],
   "source": [
    "model = LogisticRegression(solver='liblinear', C=0.05, multi_class='ovr',\n",
    "                           random_state=0)\n",
    "model.fit(x_train, y_train)"
   ]
  },
  {
   "cell_type": "markdown",
   "metadata": {},
   "source": [
    "Langkah 4: Evaluasi Model\n",
    "\n",
    "Anda harus mengevaluasi model Anda serupa dengan apa yang Anda lakukan dalam contoh sebelumnya, dengan perbedaan yang sebagian besar akan Anda gunakan x_test dan y_test, yang merupakan himpunan bagian yang tidak diterapkan untuk pelatihan. Jika Anda memutuskan untuk menstandarisasi x_train, maka model yang diperoleh bergantung pada data yang diskalakan, jadi x_test juga harus diskalakan dengan instance StandardScaler yang sama:"
   ]
  },
  {
   "cell_type": "code",
   "execution_count": 32,
   "metadata": {},
   "outputs": [],
   "source": [
    "x_test = scaler.transform(x_test)"
   ]
  },
  {
   "cell_type": "markdown",
   "metadata": {},
   "source": [
    "Begitulah cara Anda mendapatkan x_test baru, diskalakan dengan benar. Dalam kasus ini, Anda menggunakan .transform (), yang hanya mengubah argumen, tanpa mencocokkan scaler.\n",
    "\n",
    "Anda dapat memperoleh output yang diprediksi dengan .predict ():"
   ]
  },
  {
   "cell_type": "code",
   "execution_count": 33,
   "metadata": {},
   "outputs": [],
   "source": [
    "y_pred = model.predict(x_test)"
   ]
  },
  {
   "cell_type": "markdown",
   "metadata": {},
   "source": [
    "Variabel y_pred sekarang terikat ke array dari output yang diprediksi. Perhatikan bahwa Anda menggunakan x_test sebagai argumen di sini.\n",
    "\n",
    "Anda dapat memperoleh akurasi dengan .score ():"
   ]
  },
  {
   "cell_type": "code",
   "execution_count": 34,
   "metadata": {},
   "outputs": [
    {
     "data": {
      "text/plain": [
       "0.964509394572025"
      ]
     },
     "execution_count": 34,
     "metadata": {},
     "output_type": "execute_result"
    }
   ],
   "source": [
    "model.score(x_train, y_train)"
   ]
  },
  {
   "cell_type": "code",
   "execution_count": 35,
   "metadata": {},
   "outputs": [
    {
     "data": {
      "text/plain": [
       "0.9416666666666667"
      ]
     },
     "execution_count": 35,
     "metadata": {},
     "output_type": "execute_result"
    }
   ],
   "source": [
    "model.score(x_test, y_test)"
   ]
  },
  {
   "cell_type": "markdown",
   "metadata": {},
   "source": [
    "Sebenarnya, Anda bisa mendapatkan dua nilai akurasi, satu diperoleh dengan set pelatihan dan yang lainnya dengan set tes. Mungkin merupakan ide yang baik untuk membandingkan keduanya, karena situasi di mana akurasi set latihan jauh lebih tinggi mungkin mengindikasikan overfitting. Akurasi set tes lebih relevan untuk mengevaluasi kinerja pada data yang tidak terlihat karena tidak bias.\n",
    "\n",
    "Anda bisa mendapatkan matriks kebingungan dengan confusion_matrix ():"
   ]
  },
  {
   "cell_type": "code",
   "execution_count": 36,
   "metadata": {},
   "outputs": [
    {
     "data": {
      "text/plain": [
       "array([[27,  0,  0,  0,  0,  0,  0,  0,  0,  0],\n",
       "       [ 0, 32,  0,  0,  0,  0,  1,  0,  1,  1],\n",
       "       [ 1,  1, 33,  1,  0,  0,  0,  0,  0,  0],\n",
       "       [ 0,  0,  1, 28,  0,  0,  0,  0,  0,  0],\n",
       "       [ 0,  0,  0,  0, 29,  0,  0,  1,  0,  0],\n",
       "       [ 0,  0,  0,  0,  0, 39,  0,  0,  0,  1],\n",
       "       [ 0,  1,  0,  0,  0,  0, 43,  0,  0,  0],\n",
       "       [ 0,  0,  0,  0,  0,  0,  0, 39,  0,  0],\n",
       "       [ 0,  2,  1,  2,  0,  0,  0,  1, 33,  0],\n",
       "       [ 0,  0,  0,  1,  0,  1,  0,  2,  1, 36]], dtype=int64)"
      ]
     },
     "execution_count": 36,
     "metadata": {},
     "output_type": "execute_result"
    }
   ],
   "source": [
    "confusion_matrix(y_test, y_pred)"
   ]
  },
  {
   "cell_type": "markdown",
   "metadata": {},
   "source": [
    "Matriks kebingungan yang didapat besar. Dalam hal ini, ia memiliki 100 angka. Ini adalah situasi di mana mungkin sangat berguna untuk memvisualisasikannya:"
   ]
  },
  {
   "cell_type": "code",
   "execution_count": 37,
   "metadata": {},
   "outputs": [
    {
     "data": {
      "image/png": "[encoded data removed]",
      "text/plain": [
       "<Figure size 576x576 with 1 Axes>"
      ]
     },
     "metadata": {
      "needs_background": "light"
     },
     "output_type": "display_data"
    }
   ],
   "source": [
    "cm = confusion_matrix(y_test, y_pred)\n",
    "\n",
    "fig, ax = plt.subplots(figsize=(8, 8))\n",
    "ax.imshow(cm)\n",
    "ax.grid(False)\n",
    "ax.set_xlabel('Predicted outputs', color='black')\n",
    "ax.set_ylabel('Actual outputs', color='black')\n",
    "ax.xaxis.set(ticks=range(10))\n",
    "ax.yaxis.set(ticks=range(10))\n",
    "ax.set_ylim(9.5, -0.5)\n",
    "for i in range(10):\n",
    "    for j in range(10):\n",
    "        ax.text(j, i, cm[i, j], ha='center', va='center', color='white')\n",
    "plt.show()"
   ]
  },
  {
   "cell_type": "markdown",
   "metadata": {},
   "source": [
    "Ini adalah heatmap yang menggambarkan matriks kebingungan dengan angka dan warna. Anda dapat melihat bahwa nuansa ungu mewakili angka kecil (seperti 0, 1, atau 2), sedangkan hijau dan kuning menunjukkan angka yang jauh lebih besar (27 ke atas).\n",
    "\n",
    "Angka-angka pada diagonal utama (27, 32, ..., 36) menunjukkan jumlah prediksi yang benar dari set tes. Misalnya, ada 27 gambar dengan nol, 32 gambar satu, dan sebagainya yang diklasifikasikan dengan benar. Angka-angka lain sesuai dengan prediksi yang salah. Misalnya, angka 1 di baris ketiga dan kolom pertama menunjukkan bahwa ada satu gambar dengan angka 2 salah diklasifikasikan sebagai 0.\n",
    "\n",
    "Terakhir, Anda bisa mendapatkan laporan tentang klasifikasi sebagai string atau kamus dengan classification_report ():"
   ]
  },
  {
   "cell_type": "code",
   "execution_count": 38,
   "metadata": {},
   "outputs": [
    {
     "name": "stdout",
     "output_type": "stream",
     "text": [
      "              precision    recall  f1-score   support\n",
      "\n",
      "           0       0.96      1.00      0.98        27\n",
      "           1       0.89      0.91      0.90        35\n",
      "           2       0.94      0.92      0.93        36\n",
      "           3       0.88      0.97      0.92        29\n",
      "           4       1.00      0.97      0.98        30\n",
      "           5       0.97      0.97      0.97        40\n",
      "           6       0.98      0.98      0.98        44\n",
      "           7       0.91      1.00      0.95        39\n",
      "           8       0.94      0.85      0.89        39\n",
      "           9       0.95      0.88      0.91        41\n",
      "\n",
      "    accuracy                           0.94       360\n",
      "   macro avg       0.94      0.94      0.94       360\n",
      "weighted avg       0.94      0.94      0.94       360\n",
      "\n"
     ]
    }
   ],
   "source": [
    "print(classification_report(y_test, y_pred))"
   ]
  },
  {
   "cell_type": "markdown",
   "metadata": {},
   "source": [
    "## K-Nearest Neighbor (KNN)\n",
    "\n",
    "KNN adalah algoritma pembelajaran malas dan non parametik. Non-parametrik berarti tidak ada asumsi untuk distribusi data yang mendasarinya. Dengan kata lain, struktur model ditentukan dari dataset. Ini akan sangat membantu dalam praktik di mana sebagian besar dataset dunia nyata tidak mengikuti asumsi teoritis matematika. Algoritma malas berarti tidak memerlukan poin data pelatihan untuk pembuatan model. Semua data pelatihan digunakan dalam fase pengujian. Ini membuat pelatihan lebih cepat dan fase pengujian lebih lambat dan lebih mahal. Fase pengujian yang mahal berarti waktu dan memori. Dalam kasus terburuk, KNN membutuhkan lebih banyak waktu untuk memindai semua titik data dan memindai semua titik data akan membutuhkan lebih banyak memori untuk menyimpan data pelatihan.\n",
    "\n",
    "### Cara Kerja KNN\n",
    "\n",
    "Di KNN, K adalah jumlah tetangga terdekat. Jumlah tetangga adalah faktor penentu inti. K umumnya angka ganjil jika jumlah kelasnya adalah 2. Ketika K = 1, maka algoritma tersebut dikenal sebagai algoritma tetangga terdekat. Ini adalah kasus paling sederhana. Misalkan P1 adalah intinya, yang perlu diprediksi label. Pertama, Anda menemukan satu titik terdekat ke P1 dan kemudian label titik terdekat ditugaskan ke P1.\n",
    "\n",
    "anggaplah P1 adalah intinya, yang perlu diprediksi label. Pertama, Anda menemukan titik terdekat k dengan P1 dan kemudian mengklasifikasikan poin dengan suara terbanyak dari tetangganya. Setiap objek memberikan suara untuk kelas mereka dan kelas dengan suara terbanyak diambil sebagai prediksi. Untuk menemukan titik serupa yang terdekat, Anda menemukan jarak antara titik menggunakan ukuran jarak seperti jarak Euclidean, jarak Hamming, jarak Manhattan dan jarak Minkowski. KNN memiliki langkah-langkah dasar berikut:\n",
    "- Hitung jarak\n",
    "- Temukan tetangga terdekat\n",
    "- Pilih label"
   ]
  },
  {
   "cell_type": "markdown",
   "metadata": {},
   "source": [
    "## K-NN dengan Scikit-Learn // Contoh 1\n",
    "\n",
    "Mendefinisikan dataset\n",
    "\n",
    "Pertama mari kita buat dataset Anda sendiri. Di sini Anda memerlukan dua jenis atribut atau kolom dalam data Anda: Fitur dan label. Alasan untuk dua jenis kolom adalah \"sifat yang diawasi dari algoritma KNN\"."
   ]
  },
  {
   "cell_type": "code",
   "execution_count": 39,
   "metadata": {},
   "outputs": [],
   "source": [
    "\n",
    "# Assigning features and label variables\n",
    "\n",
    "# First Feature\n",
    "weather=['Sunny','Sunny','Overcast','Rainy','Rainy','Rainy','Overcast','Sunny','Sunny',\n",
    "'Rainy','Sunny','Overcast','Overcast','Rainy']\n",
    "\n",
    "# Second Feature\n",
    "temp=['Hot','Hot','Hot','Mild','Cool','Cool','Cool','Mild','Cool','Mild','Mild','Mild','Hot','Mild']\n",
    "\n",
    "# Label or target varible\n",
    "play=['No','No','Yes','Yes','Yes','No','Yes','No','Yes','Yes','Yes','Yes','Yes','No']"
   ]
  },
  {
   "cell_type": "markdown",
   "metadata": {},
   "source": [
    "Pengkodean kolom data\n",
    "\n",
    "Berbagai algoritma pembelajaran mesin memerlukan data input numerik, jadi Anda harus mewakili kolom kategorikal dalam kolom numerik.\n",
    "Untuk menyandikan data ini, Anda bisa memetakan setiap nilai ke angka. misalnya Mendung: 0, Hujan: 1, dan Cerah: 2.\n",
    "            \n",
    "Proses ini dikenal sebagai label encoding, dan sklearn dengan mudah akan melakukan ini untuk Anda menggunakan Label Encoder."
   ]
  },
  {
   "cell_type": "code",
   "execution_count": 40,
   "metadata": {},
   "outputs": [
    {
     "name": "stdout",
     "output_type": "stream",
     "text": [
      "[2 2 0 1 1 1 0 2 2 1 2 0 0 1]\n"
     ]
    }
   ],
   "source": [
    "# Import LabelEncoder\n",
    "from sklearn import preprocessing\n",
    "\n",
    "#creating labelEncoder\n",
    "le = preprocessing.LabelEncoder()\n",
    "\n",
    "# Converting string labels into numbers.\n",
    "weather_encoded=le.fit_transform(weather)\n",
    "print(weather_encoded)"
   ]
  },
  {
   "cell_type": "markdown",
   "metadata": {},
   "source": [
    "Di sini, Anda mengimpor modul preprocessing dan membuat objek Label Encoder. Menggunakan objek LabelEncoder ini, Anda dapat memasukkan dan mengubah kolom \"cuaca\" menjadi kolom angka.\n",
    "\n",
    "Demikian pula, Anda dapat menyandikan suhu dan label ke kolom angka."
   ]
  },
  {
   "cell_type": "code",
   "execution_count": 41,
   "metadata": {},
   "outputs": [
    {
     "name": "stdout",
     "output_type": "stream",
     "text": [
      "[1 1 1 2 0 0 0 2 0 2 2 2 1 2]\n"
     ]
    }
   ],
   "source": [
    "\n",
    "# converting string labels into numbers\n",
    "temp_encoded=le.fit_transform(temp)\n",
    "\n",
    "label=le.fit_transform(play)\n",
    "print(temp_encoded)"
   ]
  },
  {
   "cell_type": "markdown",
   "metadata": {},
   "source": [
    "Menggabungkan Fitur\n",
    "\n",
    "Di sini, Anda akan menggabungkan beberapa kolom atau fitur ke dalam satu set data menggunakan fungsi \"zip\""
   ]
  },
  {
   "cell_type": "code",
   "execution_count": 42,
   "metadata": {},
   "outputs": [
    {
     "name": "stdout",
     "output_type": "stream",
     "text": [
      "[(2, 1), (2, 1), (0, 1), (1, 2), (1, 0), (1, 0), (0, 0), (2, 2), (2, 0), (1, 2), (2, 2), (0, 2), (0, 1), (1, 2)]\n"
     ]
    }
   ],
   "source": [
    "#combining weather and temp into single listof tuples\n",
    "features=list(zip(weather_encoded,temp_encoded))\n",
    "\n",
    "print(features)"
   ]
  },
  {
   "cell_type": "markdown",
   "metadata": {},
   "source": [
    "Pembuatan Model\n",
    "\n",
    "Mari kita membangun model classifier KNN.\n",
    "\n",
    "Pertama, impor modul KNeighborsClassifier dan buat objek pengklasifikasi KNN dengan mengirimkan argumen jumlah tetangga di fungsi KNeighborsClassifier ().\n",
    "\n",
    "Kemudian, paskan model Anda di set kereta menggunakan fit () dan lakukan prediksi pada set tes menggunakan predict ()."
   ]
  },
  {
   "cell_type": "code",
   "execution_count": 43,
   "metadata": {},
   "outputs": [
    {
     "name": "stdout",
     "output_type": "stream",
     "text": [
      "[1]\n"
     ]
    }
   ],
   "source": [
    "from sklearn.neighbors import KNeighborsClassifier\n",
    "\n",
    "model = KNeighborsClassifier(n_neighbors=3)\n",
    "\n",
    "# Train the model using the training sets\n",
    "model.fit(features,label)\n",
    "\n",
    "#Predict Output\n",
    "predicted= model.predict([[0,2]]) # 0:Overcast, 2:Mild\n",
    "print(predicted)"
   ]
  },
  {
   "cell_type": "markdown",
   "metadata": {},
   "source": [
    "Dalam contoh di atas, Anda telah memberikan input [0,2], di mana 0 berarti cuaca Mendung dan 2 berarti suhu Ringan. \n",
    "\n",
    "Model memprediksi [1], yang berarti bermain."
   ]
  },
  {
   "cell_type": "markdown",
   "metadata": {},
   "source": [
    "### Contoh 2 //  KNN dengan Berbagai Label\n",
    "\n",
    "Sampai sekarang, Anda telah belajar Cara membuat classifier KNN untuk dua di python menggunakan scikit-learn. Sekarang Anda akan belajar tentang KNN dengan beberapa kelas.\n",
    "\n",
    "Dalam model bagian bangunan, Anda dapat menggunakan dataset anggur, yang merupakan masalah klasifikasi multi-kelas yang sangat terkenal. Data ini adalah hasil analisis kimia dari anggur yang ditanam di wilayah yang sama di Italia menggunakan tiga kultivar yang berbeda. Analisis menentukan jumlah 13 konstituen yang ditemukan di masing-masing dari ketiga jenis anggur.\n",
    "Dataset terdiri dari 13 fitur ('alkohol', 'malic_acid', 'ash', 'alcalinity_of_ash', 'magnesium', 'total_phenols', 'flavanoids', 'nonflavanoid_phenols', 'proanthocyanins', 'color_intensity', 'hue', ' 'od280 / od315_of_diluted_wines', 'proline') dan target (jenis kultivar).\n",
    "\n",
    "Data ini memiliki tiga jenis kelas kultivar: 'class_0', 'class_1', dan 'class_2'. Di sini, Anda dapat membangun model untuk mengklasifikasikan jenis kultivar. Dataset tersedia di perpustakaan scikit-learn, atau Anda juga dapat mengunduhnya dari Perpustakaan Pembelajaran Mesin UCI.\n",
    "\n",
    "Memuat data\n",
    "\n",
    "Pertama mari kita memuat dataset anggur yang diperlukan dari dataset scikit-learn.\n"
   ]
  },
  {
   "cell_type": "code",
   "execution_count": 44,
   "metadata": {},
   "outputs": [],
   "source": [
    "#Import scikit-learn dataset library\n",
    "from sklearn import datasets\n",
    "\n",
    "#Load dataset\n",
    "wine = datasets.load_wine()"
   ]
  },
  {
   "cell_type": "markdown",
   "metadata": {},
   "source": [
    "Eksplorasi Data\n",
    "\n",
    "Setelah Anda memuat dataset, Anda mungkin ingin tahu lebih banyak tentangnya. Anda dapat memeriksa fitur dan nama target."
   ]
  },
  {
   "cell_type": "code",
   "execution_count": 45,
   "metadata": {},
   "outputs": [
    {
     "name": "stdout",
     "output_type": "stream",
     "text": [
      "['alcohol', 'malic_acid', 'ash', 'alcalinity_of_ash', 'magnesium', 'total_phenols', 'flavanoids', 'nonflavanoid_phenols', 'proanthocyanins', 'color_intensity', 'hue', 'od280/od315_of_diluted_wines', 'proline']\n"
     ]
    }
   ],
   "source": [
    "\n",
    "# print the names of the features\n",
    "print(wine.feature_names)"
   ]
  },
  {
   "cell_type": "code",
   "execution_count": 46,
   "metadata": {},
   "outputs": [
    {
     "name": "stdout",
     "output_type": "stream",
     "text": [
      "['class_0' 'class_1' 'class_2']\n"
     ]
    }
   ],
   "source": [
    "\n",
    "# print the label species(class_0, class_1, class_2)\n",
    "print(wine.target_names)"
   ]
  },
  {
   "cell_type": "code",
   "execution_count": 47,
   "metadata": {},
   "outputs": [
    {
     "name": "stdout",
     "output_type": "stream",
     "text": [
      "[[1.423e+01 1.710e+00 2.430e+00 1.560e+01 1.270e+02 2.800e+00 3.060e+00\n",
      "  2.800e-01 2.290e+00 5.640e+00 1.040e+00 3.920e+00 1.065e+03]\n",
      " [1.320e+01 1.780e+00 2.140e+00 1.120e+01 1.000e+02 2.650e+00 2.760e+00\n",
      "  2.600e-01 1.280e+00 4.380e+00 1.050e+00 3.400e+00 1.050e+03]\n",
      " [1.316e+01 2.360e+00 2.670e+00 1.860e+01 1.010e+02 2.800e+00 3.240e+00\n",
      "  3.000e-01 2.810e+00 5.680e+00 1.030e+00 3.170e+00 1.185e+03]\n",
      " [1.437e+01 1.950e+00 2.500e+00 1.680e+01 1.130e+02 3.850e+00 3.490e+00\n",
      "  2.400e-01 2.180e+00 7.800e+00 8.600e-01 3.450e+00 1.480e+03]\n",
      " [1.324e+01 2.590e+00 2.870e+00 2.100e+01 1.180e+02 2.800e+00 2.690e+00\n",
      "  3.900e-01 1.820e+00 4.320e+00 1.040e+00 2.930e+00 7.350e+02]]\n"
     ]
    }
   ],
   "source": [
    "#Let's check top 5 records of the feature set.\n",
    "print(wine.data[0:5])"
   ]
  },
  {
   "cell_type": "code",
   "execution_count": 48,
   "metadata": {},
   "outputs": [
    {
     "name": "stdout",
     "output_type": "stream",
     "text": [
      "[0 0 0 0 0 0 0 0 0 0 0 0 0 0 0 0 0 0 0 0 0 0 0 0 0 0 0 0 0 0 0 0 0 0 0 0 0\n",
      " 0 0 0 0 0 0 0 0 0 0 0 0 0 0 0 0 0 0 0 0 0 0 1 1 1 1 1 1 1 1 1 1 1 1 1 1 1\n",
      " 1 1 1 1 1 1 1 1 1 1 1 1 1 1 1 1 1 1 1 1 1 1 1 1 1 1 1 1 1 1 1 1 1 1 1 1 1\n",
      " 1 1 1 1 1 1 1 1 1 1 1 1 1 1 1 1 1 1 1 2 2 2 2 2 2 2 2 2 2 2 2 2 2 2 2 2 2\n",
      " 2 2 2 2 2 2 2 2 2 2 2 2 2 2 2 2 2 2 2 2 2 2 2 2 2 2 2 2 2 2]\n"
     ]
    }
   ],
   "source": [
    "#Let's check records of the target set.\n",
    "\n",
    "print(wine.target)"
   ]
  },
  {
   "cell_type": "markdown",
   "metadata": {},
   "source": [
    "Memisahkan Data\n",
    "\n",
    "Untuk memahami kinerja model, membagi dataset menjadi set pelatihan dan set tes adalah strategi yang baik.\n",
    "\n",
    "Mari kita pisahkan dataset dengan menggunakan function train_test_split (). Anda harus melewati 3 parameter fitur, target, dan ukuran test_set. Selain itu, Anda dapat menggunakan random_state untuk memilih catatan secara acak."
   ]
  },
  {
   "cell_type": "code",
   "execution_count": 49,
   "metadata": {},
   "outputs": [],
   "source": [
    "#Import train_test_split function\n",
    "from sklearn.model_selection import train_test_split\n",
    "\n",
    "# Split dataset into training set and test set\n",
    "X_train, X_test, y_train, y_test = train_test_split(wine.data, wine.target, test_size=0.3) # 70% training and 30% test"
   ]
  },
  {
   "cell_type": "markdown",
   "metadata": {},
   "source": [
    "Model untuk K = 5\n",
    "\n",
    "Mari kita membangun model classifier KNN untuk k = 5."
   ]
  },
  {
   "cell_type": "code",
   "execution_count": 50,
   "metadata": {},
   "outputs": [],
   "source": [
    "#Import knearest neighbors Classifier model\n",
    "from sklearn.neighbors import KNeighborsClassifier\n",
    "\n",
    "#Create KNN Classifier\n",
    "knn = KNeighborsClassifier(n_neighbors=5)\n",
    "\n",
    "#Train the model using the training sets\n",
    "knn.fit(X_train, y_train)\n",
    "\n",
    "#Predict the response for test dataset\n",
    "y_pred = knn.predict(X_test)"
   ]
  },
  {
   "cell_type": "markdown",
   "metadata": {},
   "source": [
    "Evaluasi Model untuk k = 5\n",
    "\n",
    "Mari kita perkirakan, seberapa akurat classifier atau model dapat memprediksi jenis kultivar.\n",
    "\n",
    "Akurasi dapat dihitung dengan membandingkan nilai set tes aktual dan nilai prediksi."
   ]
  },
  {
   "cell_type": "code",
   "execution_count": 51,
   "metadata": {},
   "outputs": [
    {
     "name": "stdout",
     "output_type": "stream",
     "text": [
      "Accuracy: 0.6296296296296297\n"
     ]
    }
   ],
   "source": [
    "\n",
    "#Import scikit-learn metrics module for accuracy calculation\n",
    "from sklearn import metrics\n",
    "\n",
    "# Model Accuracy, how often is the classifier correct?\n",
    "print(\"Accuracy:\",metrics.accuracy_score(y_test, y_pred))"
   ]
  },
  {
   "cell_type": "markdown",
   "metadata": {},
   "source": [
    "Nah, Anda mendapat tingkat klasifikasi 68,51%, dianggap sebagai akurasi yang baik.\n",
    "\n",
    "Untuk evaluasi lebih lanjut, Anda juga dapat membuat model untuk sejumlah tetangga yang berbeda.\n",
    "\n",
    "Jika Model untuk K = 7\n",
    "\n",
    "Mari kita membangun model classifier KNN untuk k = 7."
   ]
  },
  {
   "cell_type": "code",
   "execution_count": 52,
   "metadata": {},
   "outputs": [],
   "source": [
    "\n",
    "#Import knearest neighbors Classifier model\n",
    "from sklearn.neighbors import KNeighborsClassifier\n",
    "\n",
    "#Create KNN Classifier\n",
    "knn = KNeighborsClassifier(n_neighbors=7)\n",
    "\n",
    "#Train the model using the training sets\n",
    "knn.fit(X_train, y_train)\n",
    "\n",
    "#Predict the response for test dataset\n",
    "y_pred = knn.predict(X_test)"
   ]
  },
  {
   "cell_type": "code",
   "execution_count": 53,
   "metadata": {},
   "outputs": [
    {
     "name": "stdout",
     "output_type": "stream",
     "text": [
      "Accuracy: 0.6851851851851852\n"
     ]
    }
   ],
   "source": [
    "#Import scikit-learn metrics module for accuracy calculation\n",
    "from sklearn import metrics\n",
    "\n",
    "# Model Accuracy, how often is the classifier correct?\n",
    "print(\"Accuracy:\",metrics.accuracy_score(y_test, y_pred))"
   ]
  },
  {
   "cell_type": "markdown",
   "metadata": {},
   "source": [
    "## Pemilihan k dengan menggunakan calculating error"
   ]
  },
  {
   "cell_type": "code",
   "execution_count": 54,
   "metadata": {},
   "outputs": [],
   "source": [
    "error = []\n",
    "\n",
    "# Calculating error for K values between 1 and 40\n",
    "for i in range(1, 40):  \n",
    "    knn = KNeighborsClassifier(n_neighbors=i)\n",
    "    knn.fit(X_train, y_train)\n",
    "    pred_i = knn.predict(X_test)\n",
    "    error.append(np.mean(pred_i != y_test))"
   ]
  },
  {
   "cell_type": "code",
   "execution_count": 55,
   "metadata": {},
   "outputs": [
    {
     "data": {
      "text/plain": [
       "Text(0, 0.5, 'Error mean')"
      ]
     },
     "execution_count": 55,
     "metadata": {},
     "output_type": "execute_result"
    },
    {
     "data": {
      "image/png": "[encoded data removed]",
      "text/plain": [
       "<Figure size 864x432 with 1 Axes>"
      ]
     },
     "metadata": {
      "needs_background": "light"
     },
     "output_type": "display_data"
    }
   ],
   "source": [
    "\n",
    "plt.figure(figsize=(12, 6))  \n",
    "plt.plot(range(1, 40), error, color='red', linestyle='dashed', marker='o',  \n",
    "         markerfacecolor='blue', markersize=10)\n",
    "plt.title('Error Rate K')  \n",
    "plt.xlabel('K')  \n",
    "plt.ylabel('Error mean')"
   ]
  },
  {
   "cell_type": "code",
   "execution_count": 56,
   "metadata": {},
   "outputs": [
    {
     "name": "stdout",
     "output_type": "stream",
     "text": [
      "Accuracy: 0.6851851851851852\n"
     ]
    }
   ],
   "source": [
    "\n",
    "#Import knearest neighbors Classifier model\n",
    "from sklearn.neighbors import KNeighborsClassifier\n",
    "\n",
    "#Create KNN Classifier\n",
    "knn = KNeighborsClassifier(n_neighbors=3)\n",
    "\n",
    "#Train the model using the training sets\n",
    "knn.fit(X_train, y_train)\n",
    "\n",
    "#Predict the response for test dataset\n",
    "y_pred = knn.predict(X_test)\n",
    "\n",
    "#Import scikit-learn metrics module for accuracy calculation\n",
    "from sklearn import metrics\n",
    "\n",
    "# Model Accuracy, how often is the classifier correct?\n",
    "print(\"Accuracy:\",metrics.accuracy_score(y_test, y_pred))"
   ]
  }
 ],
 "metadata": {
  "kernelspec": {
   "display_name": "Python 3",
   "language": "python",
   "name": "python3"
  },
  "language_info": {
   "codemirror_mode": {
    "name": "ipython",
    "version": 3
   },
   "file_extension": ".py",
   "mimetype": "text/x-python",
   "name": "python",
   "nbconvert_exporter": "python",
   "pygments_lexer": "ipython3",
   "version": "3.7.4"
  }
 },
 "nbformat": 4,
 "nbformat_minor": 2
}
