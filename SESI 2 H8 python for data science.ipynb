{
 "cells": [
  {
   "cell_type": "markdown",
   "metadata": {},
   "source": [
    "# SESI 2 PYTHON FOR DATA SCIENCE\n",
    "## 1. KONDISIONAL, CONTROL FLOW, LOOP"
   ]
  },
  {
   "cell_type": "markdown",
   "metadata": {},
   "source": [
    "### 1.1 Kondisional"
   ]
  },
  {
   "cell_type": "markdown",
   "metadata": {},
   "source": [
    "Kondisional merupakan suatu keadaan yang dapat bernilai benar atau salah."
   ]
  },
  {
   "cell_type": "markdown",
   "metadata": {},
   "source": [
    "**Macam-macam kondisi pada python**\n",
    "- *statement* if\n",
    "- if...else\n",
    "- if...elif...else"
   ]
  },
  {
   "cell_type": "markdown",
   "metadata": {},
   "source": [
    "### 1.1.1 *STATEMENT* IF"
   ]
  },
  {
   "cell_type": "markdown",
   "metadata": {},
   "source": [
    "Basic syntax IF :\n",
    "            "
   ]
  },
  {
   "cell_type": "code",
   "execution_count": 1,
   "metadata": {},
   "outputs": [
    {
     "ename": "SyntaxError",
     "evalue": "invalid syntax (<ipython-input-1-115fb1a9b87d>, line 1)",
     "output_type": "error",
     "traceback": [
      "\u001b[0;36m  File \u001b[0;32m\"<ipython-input-1-115fb1a9b87d>\"\u001b[0;36m, line \u001b[0;32m1\u001b[0m\n\u001b[0;31m    if <expr> :\u001b[0m\n\u001b[0m       ^\u001b[0m\n\u001b[0;31mSyntaxError\u001b[0m\u001b[0;31m:\u001b[0m invalid syntax\n"
     ]
    }
   ],
   "source": [
    "if <expr> :\n",
    "    <Statement>"
   ]
  },
  {
   "cell_type": "markdown",
   "metadata": {},
   "source": [
    "Penjelasan dari syntax diatas :\n",
    "    - if sebagai kondisi\n",
    "    -<expr> merupakan sebuah ekspresi dalam boolean konteks (True / False)\n",
    "    -<statement> merupakan sebuah statement\n",
    "Jika ekspresi tersebut bernilai true maka statement tersebut akan dijalakan dan apabila ekspresi tersebut bernilai false maka statement tidak akan dijalakan atau dapat terlewati."
   ]
  },
  {
   "cell_type": "markdown",
   "metadata": {},
   "source": [
    "Contoh *Statement* IF"
   ]
  },
  {
   "cell_type": "code",
   "execution_count": 2,
   "metadata": {},
   "outputs": [
    {
     "name": "stdout",
     "output_type": "stream",
     "text": [
      "yes\n",
      "yes\n",
      "yes\n"
     ]
    }
   ],
   "source": [
    "x = 0\n",
    "y = 5\n",
    "\n",
    "if x < y:                            # True\n",
    "    print('yes')\n",
    "\n",
    "if y < x:                            # False\n",
    "    print('yes')\n",
    "\n",
    "if x:                                # False\n",
    "    print('yes')\n",
    "\n",
    "if y:                                # False\n",
    "    print('yes')\n",
    "\n",
    "if 'aul' in 'grault':                # False\n",
    "    print('yes')\n",
    "\n",
    "if 'quux' in ['foo', 'bar', 'baz']:  # False\n",
    "    print('yes')"
   ]
  },
  {
   "cell_type": "markdown",
   "metadata": {},
   "source": [
    "## 1.1.2 Grouping Statement : Indentasi & blocks"
   ]
  },
  {
   "cell_type": "markdown",
   "metadata": {},
   "source": [
    "Grouping statement dapat dilakukan jika ingin mengevaluasi kondisi dan menjalakan lebih dari satu hal dalam statement jika kondisi tersebut benar.\n",
    "\n",
    "contoh : Jika cuaca bagus makan saya akan,\n",
    "- Memotong rumput \n",
    "- Pergi bermain\n",
    "- Berjalan-jalan\n",
    "\n",
    "Contoh di atas ditunjukkan dimana terdapat satu kondisi dan diikuti beberapa statement.\n",
    "\n",
    "Contoh syntax pada python ada dibawh ini :"
   ]
  },
  {
   "cell_type": "code",
   "execution_count": 4,
   "metadata": {},
   "outputs": [
    {
     "ename": "IndentationError",
     "evalue": "unindent does not match any outer indentation level (<tokenize>, line 7)",
     "output_type": "error",
     "traceback": [
      "\u001b[0;36m  File \u001b[0;32m\"<tokenize>\"\u001b[0;36m, line \u001b[0;32m7\u001b[0m\n\u001b[0;31m    <following_statement>\u001b[0m\n\u001b[0m    ^\u001b[0m\n\u001b[0;31mIndentationError\u001b[0m\u001b[0;31m:\u001b[0m unindent does not match any outer indentation level\n"
     ]
    }
   ],
   "source": [
    " if <expr> :\n",
    "        <statement1>\n",
    "        <statement2>\n",
    "        <statement3>\n",
    "        ...\n",
    "        <statementn>\n",
    "    <following_statement>"
   ]
  },
  {
   "cell_type": "markdown",
   "metadata": {},
   "source": [
    "Pada contoh diatas ketika kondisi sudah benar maka semua statement tersebut akan dijalankan (Baris 2 hingga 6) karena python menganggap blok tersebut sebagai blok yang sama. setelah itu dilanjutkan dengan <following_statement>."
   ]
  },
  {
   "cell_type": "code",
   "execution_count": null,
   "metadata": {},
   "outputs": [],
   "source": [
    "if 'foo' in ['bar ', 'qux' , 'baz' ] :\n",
    "    print('Statement 1 dijalakan')\n",
    "    print('Statement 2 dijalakan')\n",
    "    print(\"...\")\n",
    "    print(\"Statement akhir\")\n",
    "print('Setelah kondisi diatas')"
   ]
  },
  {
   "cell_type": "markdown",
   "metadata": {},
   "source": [
    "Contoh diatas merupakan sebuah gambaran dimana kondisi tersebut salah jadi blok pertama (baris 2 - baris 5) dilewati dan menjalakan blok selanjutnya (baris 7)"
   ]
  },
  {
   "cell_type": "markdown",
   "metadata": {},
   "source": [
    "Contoh selanjutnya : "
   ]
  },
  {
   "cell_type": "code",
   "execution_count": null,
   "metadata": {},
   "outputs": [],
   "source": [
    "x = 10\n",
    "y = 20\n",
    "\n",
    "if 'foo' in ['foo','bar','baz']:\n",
    "    print('outer condition is true')\n",
    "    \n",
    "    if x  > y:\n",
    "        print('Inner condition 1')\n",
    "        \n",
    "    print('Between inner conditions')\n",
    "    \n",
    "    if x < y:\n",
    "        print('Inner condition 2')\n",
    "        \n",
    "    print('End of outer condition')\n",
    "print('After outer condition')"
   ]
  },
  {
   "cell_type": "markdown",
   "metadata": {},
   "source": [
    "## 1.1.3 ELSE dan ELIF Klausa"
   ]
  },
  {
   "cell_type": "code",
   "execution_count": null,
   "metadata": {},
   "outputs": [],
   "source": [
    "if <expr> :\n",
    "    <statement(1)>\n",
    "else:\n",
    "    <statement(2)>"
   ]
  },
  {
   "cell_type": "markdown",
   "metadata": {},
   "source": [
    "Contoh diatas merupkan syntax dari sebuah penggunaan else pada python.\n",
    "Jika kondisi benar maka statement 1 akan dijalakan, jika salah maka statement 1 akan dilewati dan statement 2 yang akan dieksekusi"
   ]
  },
  {
   "cell_type": "markdown",
   "metadata": {},
   "source": [
    "Pada contoh di bawah ini x kurang dari 50, berarti kondisi tersebut benar maka blok pertama (baris 4 - baris 5) akan dijalakan lalu blok kedua (baris 7 - baris 8) akan dilewati."
   ]
  },
  {
   "cell_type": "code",
   "execution_count": null,
   "metadata": {},
   "outputs": [],
   "source": [
    "x = 20\n",
    "\n",
    "if x < 50 :\n",
    "    print(\"(Blok pertama)\")\n",
    "    print(\"x Lebih kecil\")\n",
    "else :\n",
    "    print(\"(Blok kedua)\")\n",
    "    print(\"x lebih besar\")"
   ]
  },
  {
   "cell_type": "markdown",
   "metadata": {},
   "source": [
    "contoh kedua jika x lebih dari 50 makan blok kedua (baris 7 - baris 8) yang akan dijalakan."
   ]
  },
  {
   "cell_type": "code",
   "execution_count": null,
   "metadata": {},
   "outputs": [],
   "source": [
    "x = 80\n",
    "\n",
    "if x < 50 :\n",
    "    print(\"(Blok pertama)\")\n",
    "    print(\"x Lebih kecil\")\n",
    "else :\n",
    "    print(\"(Blok kedua)\")\n",
    "    print(\"x lebih besar\")"
   ]
  },
  {
   "cell_type": "markdown",
   "metadata": {},
   "source": [
    "## 1.1.4 Penggunaan Elif (PERCABANGAN)"
   ]
  },
  {
   "cell_type": "markdown",
   "metadata": {},
   "source": [
    "Percabangan disini sebagai multikondisi dimana terdapat berbagai kondisi sebagai contoh jika kondisi pertama salah maka dijalakan kondisi kedua namun jika kondisi kedua tetap salah, python akan mengevaluasi hingga terdapat kondisi yang benar. "
   ]
  },
  {
   "cell_type": "markdown",
   "metadata": {},
   "source": [
    "contoh program :"
   ]
  },
  {
   "cell_type": "code",
   "execution_count": null,
   "metadata": {},
   "outputs": [],
   "source": [
    "hargaBuku = 20000\n",
    "hargaMajalah = 5000\n",
    "uang = 10000\n",
    "\n",
    "if hargaBuku + hargaMajalah < int(uang) :\n",
    "    print('Beli buku dan Majalah')\n",
    "    \n",
    "elif hargaBuku < int(uang):\n",
    "    print('Beli Buku saja')\n",
    "    \n",
    "elif hargaMajalah < int(uang) :\n",
    "    print('Beli Majalah saja')\n",
    "    \n",
    "else:\n",
    "    print('Uang tidak cukup')"
   ]
  },
  {
   "cell_type": "markdown",
   "metadata": {},
   "source": [
    "Contoh diatas menggambarkan terdapat kondisi yang benar (baris 10) maka statement pada baris 11 akan dijalakan. akan tetapi sebagai contoh jika semua kondisi tidak ada yang benar dan klausa lain tidak dimasukkan (else) makan tidak ada blok yang akan dikseskusi.\n",
    "Contoh jika tidak terdapat kondisi yang benar dan tidak terdapat klause (else) :"
   ]
  },
  {
   "cell_type": "code",
   "execution_count": null,
   "metadata": {},
   "outputs": [],
   "source": [
    "if 'z' in 'bar':\n",
    "    print('foo')\n",
    "elif 'c' in 'bar':\n",
    "    print(\"this wont happe\")\n",
    "elif 'd' in 'bar':\n",
    "    print(\"this wont either\")"
   ]
  },
  {
   "cell_type": "markdown",
   "metadata": {},
   "source": [
    "contoh diatas tidak menghasilkan output karena tidak terdapat kondisi yang benar dan klause (else)"
   ]
  },
  {
   "cell_type": "markdown",
   "metadata": {},
   "source": [
    "### 1.1.5 **On-Line if statments**"
   ]
  },
  {
   "cell_type": "markdown",
   "metadata": {},
   "source": [
    "On-line if statements sama seperti statement if sebelumnya hanya cara penulisannya saja yang berbeda.\n"
   ]
  },
  {
   "cell_type": "markdown",
   "metadata": {},
   "source": [
    "Contoh syntax on-line if statement :"
   ]
  },
  {
   "cell_type": "code",
   "execution_count": null,
   "metadata": {},
   "outputs": [],
   "source": [
    "if <expr> : <statement>"
   ]
  },
  {
   "cell_type": "markdown",
   "metadata": {},
   "source": [
    "Contoh syntax on-line if statement dengan statement lebih dari satu dan dipisahkan dengan titik koma (;) :"
   ]
  },
  {
   "cell_type": "code",
   "execution_count": null,
   "metadata": {},
   "outputs": [],
   "source": [
    "if <expr> : <statement(1)> ; <statement(2) ; ..... ; <statement(n)>"
   ]
  },
  {
   "cell_type": "markdown",
   "metadata": {},
   "source": [
    "contoh di atas menggambarkan jika kondisi <expr> benar maka statement1 dijalakan kemudian statement2 dst akan dijalakan namun ketika kondisi tidak benar maka statement1, statement2 dst tidak dijalakan karena python membaca semua statement tersebut berada dalam 1 blok."
   ]
  },
  {
   "cell_type": "markdown",
   "metadata": {},
   "source": [
    "contoh program dengan kondisi <expr> benar :"
   ]
  },
  {
   "cell_type": "code",
   "execution_count": null,
   "metadata": {},
   "outputs": [],
   "source": [
    "if 'f' in 'foo' : print('1') ; print('2') ; print('3');"
   ]
  },
  {
   "cell_type": "markdown",
   "metadata": {},
   "source": [
    "contoh program dimana kondisi salah: "
   ]
  },
  {
   "cell_type": "code",
   "execution_count": 5,
   "metadata": {},
   "outputs": [],
   "source": [
    "if 'a' in 'foo' : print('1') ; print('2') ; print('3')"
   ]
  },
  {
   "cell_type": "markdown",
   "metadata": {},
   "source": [
    "contoh menggunakan elif & else :"
   ]
  },
  {
   "cell_type": "code",
   "execution_count": 6,
   "metadata": {},
   "outputs": [
    {
     "name": "stdout",
     "output_type": "stream",
     "text": [
      "qux\n",
      "bar\n"
     ]
    }
   ],
   "source": [
    "x = 2\n",
    "if x == 1: print('foo') ; print('faa')\n",
    "elif x == 2 : print('qux') ; print('bar')\n",
    "else: print('aaa') ; print('bbb')"
   ]
  },
  {
   "cell_type": "code",
   "execution_count": 7,
   "metadata": {},
   "outputs": [
    {
     "name": "stdout",
     "output_type": "stream",
     "text": [
      "aaa\n",
      "bbb\n"
     ]
    }
   ],
   "source": [
    "x = 3\n",
    "if x == 1: print('foo') ; print('faa')\n",
    "elif x == 2 : print('qux') ; print('bar')\n",
    "else: print('aaa') ; print('bbb')"
   ]
  },
  {
   "cell_type": "markdown",
   "metadata": {},
   "source": [
    "### 1.1.6 **Ekspresi Kondisional (Python's Ternary Operator)**"
   ]
  },
  {
   "cell_type": "markdown",
   "metadata": {},
   "source": [
    "Ekspresi kondisional merupakan sebuah keputusan tambahan di dalam python untuk mendukung suatu entitas atau dapat disebut juga sebagai operator tenary."
   ]
  },
  {
   "cell_type": "markdown",
   "metadata": {},
   "source": [
    "contoh syntax dari eksepresi kondisional :"
   ]
  },
  {
   "cell_type": "code",
   "execution_count": 8,
   "metadata": {},
   "outputs": [
    {
     "ename": "SyntaxError",
     "evalue": "invalid syntax (<ipython-input-8-979c6a695846>, line 1)",
     "output_type": "error",
     "traceback": [
      "\u001b[0;36m  File \u001b[0;32m\"<ipython-input-8-979c6a695846>\"\u001b[0;36m, line \u001b[0;32m1\u001b[0m\n\u001b[0;31m    <expr1> if <conditional_expr> else <expr2>\u001b[0m\n\u001b[0m    ^\u001b[0m\n\u001b[0;31mSyntaxError\u001b[0m\u001b[0;31m:\u001b[0m invalid syntax\n"
     ]
    }
   ],
   "source": [
    "<expr1> if <conditional_expr> else <expr2>"
   ]
  },
  {
   "cell_type": "markdown",
   "metadata": {},
   "source": [
    "Pada contoh diatas ekspresi konditional (<conditional_expr>) akan dievaluasi terlebih dahulu, Jika itu benar maka bagian sebelah kiri (<expr1>) akan dijalakan namun jika salah bagian kanan <expr2> yang akan dijalakan."
   ]
  },
  {
   "cell_type": "markdown",
   "metadata": {},
   "source": [
    "Contoh :"
   ]
  },
  {
   "cell_type": "code",
   "execution_count": null,
   "metadata": {},
   "outputs": [],
   "source": [
    "hujan = False\n",
    "print('Ayo kita pergi ke ' , 'pantai' if not hujan else 'perpustakaan')"
   ]
  },
  {
   "cell_type": "code",
   "execution_count": null,
   "metadata": {},
   "outputs": [],
   "source": [
    "hujan = True\n",
    "print('Ayo kita pergi ke ' , 'pantai' if not hujan else 'perpustakaan')"
   ]
  },
  {
   "cell_type": "code",
   "execution_count": null,
   "metadata": {},
   "outputs": [],
   "source": [
    "age = 12\n",
    "s = 'teen' if age < 21 else 'adult'\n",
    "print(s)"
   ]
  },
  {
   "cell_type": "code",
   "execution_count": null,
   "metadata": {},
   "outputs": [],
   "source": [
    "age = 24\n",
    "s = 'teen' if age < 21 else 'adult'\n",
    "print(s)"
   ]
  },
  {
   "cell_type": "markdown",
   "metadata": {},
   "source": [
    "### 1.1.7 **Pass Statement**"
   ]
  },
  {
   "cell_type": "markdown",
   "metadata": {},
   "source": [
    "pass statement pada python dapat digunakan sebagai pengganti ketika kita ingin melewatinya."
   ]
  },
  {
   "cell_type": "markdown",
   "metadata": {},
   "source": [
    "Contoh :"
   ]
  },
  {
   "cell_type": "code",
   "execution_count": 9,
   "metadata": {},
   "outputs": [
    {
     "ename": "IndentationError",
     "evalue": "expected an indented block (<ipython-input-9-19ecea800c0d>, line 3)",
     "output_type": "error",
     "traceback": [
      "\u001b[0;36m  File \u001b[0;32m\"<ipython-input-9-19ecea800c0d>\"\u001b[0;36m, line \u001b[0;32m3\u001b[0m\n\u001b[0;31m    print('foo')\u001b[0m\n\u001b[0m        ^\u001b[0m\n\u001b[0;31mIndentationError\u001b[0m\u001b[0;31m:\u001b[0m expected an indented block\n"
     ]
    }
   ],
   "source": [
    "if True : \n",
    "    \n",
    "print('foo')"
   ]
  },
  {
   "cell_type": "markdown",
   "metadata": {},
   "source": [
    "Akan terjadi error karena tidak terdapat pengganti pada kondisi diatas."
   ]
  },
  {
   "cell_type": "code",
   "execution_count": null,
   "metadata": {},
   "outputs": [],
   "source": [
    "if True : \n",
    "    pass\n",
    "\n",
    "print('foo')"
   ]
  },
  {
   "cell_type": "markdown",
   "metadata": {},
   "source": [
    "Setelah ditambah pass statement maka kode program dapat dijalakan."
   ]
  },
  {
   "cell_type": "markdown",
   "metadata": {},
   "source": [
    "### 1.2 **LOOP**"
   ]
  },
  {
   "cell_type": "markdown",
   "metadata": {},
   "source": [
    "Loop adalah sebuah struktur program yang mengimplemetasikan iterasi."
   ]
  },
  {
   "cell_type": "markdown",
   "metadata": {},
   "source": [
    "Iterasi berarti mengeksesuksi blok kode yang sama secara berulang kali. Dalam pemrograman terdapat 2 jenis iterasi yaitu :\n",
    "- indefinite iteration\n",
    "- definite iteration"
   ]
  },
  {
   "cell_type": "markdown",
   "metadata": {},
   "source": [
    "### 1.2.1 **Python \"While\" LOOP**"
   ]
  },
  {
   "cell_type": "markdown",
   "metadata": {},
   "source": [
    "Format syntax while :"
   ]
  },
  {
   "cell_type": "code",
   "execution_count": null,
   "metadata": {},
   "outputs": [],
   "source": [
    "while <expr>:\n",
    "    <statement(s)>"
   ]
  },
  {
   "cell_type": "markdown",
   "metadata": {},
   "source": [
    "<expr> sebagai ekspresi pengontrol dan biasanya melibatkan sebuah variable yang diinisialisasi sebelum memulai loop dan kemudian dimodifikasi di badan loop."
   ]
  },
  {
   "cell_type": "markdown",
   "metadata": {},
   "source": [
    "Cara kerja while: pertama - tama <expr> akan dievaluasi dalam konteks boolean, jika itu benar , makan badan loop akan dieksekusi. Kemudian <expr> akan diperikasi lagi dan jika masih benar, badan loop akan diekseskusi sampai <expr> menjadi tidak benar dan badan loop berhent dieksekusi."
   ]
  },
  {
   "cell_type": "markdown",
   "metadata": {},
   "source": [
    "contoh loop :"
   ]
  },
  {
   "cell_type": "code",
   "execution_count": 10,
   "metadata": {},
   "outputs": [
    {
     "name": "stdout",
     "output_type": "stream",
     "text": [
      "4\n",
      "3\n",
      "2\n",
      "1\n",
      "0\n"
     ]
    }
   ],
   "source": [
    "n = 5\n",
    "while n > 0 :\n",
    "    n -= 1\n",
    "    print(n)"
   ]
  },
  {
   "cell_type": "markdown",
   "metadata": {},
   "source": [
    "Yang terjadi pada contoh di atas :\n",
    "- n = 5, dan <expr> pada baris2 (n > 0) merupakan sebuah kondisi yang benar sehingga badan loop akan dieksekusi pada baris3 (n-=1), n dikurangi 1 = 4 lalu di cetak. ketika badan loop telah selesai mencetak, eksekusi program kembali dijankan pada baris 2 dan ekspresi akan dievaluasi lagi jika masih benar badan loop akan dieksekusi dan mencetak angka 3. Ini berlanjut sampai n menjadi 0 dimana ekspresi dievaluasi dan itu salah maka loop akan berakhir."
   ]
  },
  {
   "cell_type": "markdown",
   "metadata": {},
   "source": [
    "### 1.2.2 Break & Continue Statement pada Python"
   ]
  },
  {
   "cell_type": "markdown",
   "metadata": {},
   "source": [
    "contoh break :"
   ]
  },
  {
   "cell_type": "code",
   "execution_count": 2,
   "metadata": {},
   "outputs": [
    {
     "name": "stdout",
     "output_type": "stream",
     "text": [
      "4\n",
      "3\n",
      "Loop Ended\n"
     ]
    }
   ],
   "source": [
    "n = 5\n",
    "while n > 0 :\n",
    "    n -= 1\n",
    "    if n == 2 :\n",
    "        break #Break statement\n",
    "    print(n)\n",
    "print('Loop Ended')"
   ]
  },
  {
   "cell_type": "markdown",
   "metadata": {},
   "source": [
    "Ketika n = 2, break statement akan dijalakan (baris 4  & 5) dan loop akan dihentikan sepenuhnya dan eksekusi program akan melompat ke pernyaatan terakhir (baris 7)."
   ]
  },
  {
   "cell_type": "markdown",
   "metadata": {},
   "source": [
    "Contoh continue :"
   ]
  },
  {
   "cell_type": "code",
   "execution_count": 3,
   "metadata": {},
   "outputs": [
    {
     "name": "stdout",
     "output_type": "stream",
     "text": [
      "4\n",
      "3\n",
      "1\n",
      "0\n",
      "Loop ended\n"
     ]
    }
   ],
   "source": [
    "n = 5\n",
    "while n > 0 :\n",
    "    n -= 1\n",
    "    if n == 2:\n",
    "        continue\n",
    "    print(n)\n",
    "print('Loop ended')"
   ]
  },
  {
   "cell_type": "markdown",
   "metadata": {},
   "source": [
    "Ketika n = 2, continue statement menyebabkan penghentian iterasi tersebut. jadi angka 2 tidak dicetak melainkan mengeksekusi kembali ekspresi jika kondisinya benar loop tersebut akan terus berlanjut sampai kondisinya tidak memenuhi."
   ]
  },
  {
   "cell_type": "markdown",
   "metadata": {},
   "source": [
    "Jadi fungsi break & continue statement untuk mengontrol sebuah Loop."
   ]
  },
  {
   "cell_type": "markdown",
   "metadata": {},
   "source": [
    "## 1.2.3 Else klausa pada loop"
   ]
  },
  {
   "cell_type": "markdown",
   "metadata": {},
   "source": [
    "syntax else pada sebuah loop :"
   ]
  },
  {
   "cell_type": "code",
   "execution_count": null,
   "metadata": {},
   "outputs": [],
   "source": [
    "while <expr :\n",
    "    statement(s)\n",
    "else :\n",
    "    <additional_statement>"
   ]
  },
  {
   "cell_type": "markdown",
   "metadata": {},
   "source": [
    "additional_statement akan dieksekusi ketika loop sementara berakhir."
   ]
  },
  {
   "cell_type": "markdown",
   "metadata": {},
   "source": [
    "Contoh : "
   ]
  },
  {
   "cell_type": "code",
   "execution_count": 6,
   "metadata": {},
   "outputs": [
    {
     "name": "stdout",
     "output_type": "stream",
     "text": [
      "4\n",
      "3\n",
      "2\n",
      "1\n",
      "0\n",
      "Loop Done\n"
     ]
    }
   ],
   "source": [
    "n = 5 \n",
    "while n > 0 :\n",
    "    n -= 1\n",
    "    print(n)\n",
    "    \n",
    "else:\n",
    "    print('Loop Done')\n",
    "        "
   ]
  },
  {
   "cell_type": "markdown",
   "metadata": {},
   "source": [
    "Ketika kondisi tidak memenuhi maka klause else akan dijalakan sebagaimana mestinya."
   ]
  },
  {
   "cell_type": "markdown",
   "metadata": {},
   "source": [
    "### 1.2.4 Infinite LOOP  "
   ]
  },
  {
   "cell_type": "markdown",
   "metadata": {},
   "source": [
    "Loop yang tidak pernah berakhir, contoh"
   ]
  },
  {
   "cell_type": "code",
   "execution_count": null,
   "metadata": {},
   "outputs": [],
   "source": [
    "while True :\n",
    "    print('foo')"
   ]
  },
  {
   "cell_type": "markdown",
   "metadata": {},
   "source": [
    "### 1.2.5 Nested while LOOPS"
   ]
  },
  {
   "cell_type": "markdown",
   "metadata": {},
   "source": [
    "Python memungkinkan untuk menggunakan sebuah loop di dalam loop lain. "
   ]
  },
  {
   "cell_type": "markdown",
   "metadata": {},
   "source": [
    "Syntax untuk nested while loops adalah :"
   ]
  },
  {
   "cell_type": "code",
   "execution_count": null,
   "metadata": {},
   "outputs": [],
   "source": [
    "while <expr> :\n",
    "    while <expr>:\n",
    "        statement(s)\n",
    "    statement(s)"
   ]
  },
  {
   "cell_type": "markdown",
   "metadata": {},
   "source": [
    "Contoh :"
   ]
  },
  {
   "cell_type": "code",
   "execution_count": 1,
   "metadata": {},
   "outputs": [
    {
     "name": "stdout",
     "output_type": "stream",
     "text": [
      "foo\n",
      "> baz\n",
      ">  qux\n",
      " bar\n",
      "> baz\n",
      ">  qux\n"
     ]
    }
   ],
   "source": [
    "a = ['foo' , ' bar']\n",
    "while len(a):\n",
    "    print(a.pop(0))\n",
    "    b = ['baz' , ' qux']\n",
    "    while len(b):\n",
    "        print('>' , b.pop(0))"
   ]
  },
  {
   "cell_type": "markdown",
   "metadata": {},
   "source": [
    "catatan untuk nesting loops : kita dapat meletakkan semua tipe loop di dalam tipe loop yang lain, misal for loop di dalam while loop atau pun sebaliknya. Nested loop juga dapat menggunakan break  & continue selain itu loop juga dapat beradada di dalam statement if / elif / else, ataupun sebaliknya."
   ]
  },
  {
   "cell_type": "markdown",
   "metadata": {},
   "source": [
    "### 1.2.6 One-Line while LOOPS"
   ]
  },
  {
   "cell_type": "markdown",
   "metadata": {},
   "source": [
    "sama seperti if , loop while juga dapat ditentukan pada suatu baris dan jika terdapat beberapa statement dapat dipisahkan dengan titik koma (;)."
   ]
  },
  {
   "cell_type": "markdown",
   "metadata": {},
   "source": [
    "Contoh :"
   ]
  },
  {
   "cell_type": "code",
   "execution_count": 3,
   "metadata": {},
   "outputs": [
    {
     "name": "stdout",
     "output_type": "stream",
     "text": [
      "4\n",
      "3\n",
      "2\n",
      "1\n",
      "0\n"
     ]
    }
   ],
   "source": [
    "n = 5\n",
    "while n > 0: n -= 1 ; print(n)"
   ]
  },
  {
   "cell_type": "markdown",
   "metadata": {},
   "source": [
    "### 1.2.7 FOR LOOP"
   ]
  },
  {
   "cell_type": "markdown",
   "metadata": {},
   "source": [
    "for loop pada python : "
   ]
  },
  {
   "cell_type": "code",
   "execution_count": null,
   "metadata": {},
   "outputs": [],
   "source": [
    "for <var> in <iterable> :\n",
    "    statement(s)"
   ]
  },
  {
   "cell_type": "markdown",
   "metadata": {},
   "source": [
    "- <iterable> merupakan sebuah kumpulan-kumpulan objek misalnya sebuah tupel / list.\n",
    "- <statement(s)> merupakan sebuah identasi dan diekseskusi sekali untuk setiap item yang ada di dalam <iterable>\n",
    "- <var> merupakan variable loop untuk mengambil nilai setiap kali melakukan loop"
   ]
  },
  {
   "cell_type": "markdown",
   "metadata": {},
   "source": [
    "contoh :"
   ]
  },
  {
   "cell_type": "code",
   "execution_count": 5,
   "metadata": {},
   "outputs": [
    {
     "name": "stdout",
     "output_type": "stream",
     "text": [
      "foo\n",
      "bar\n",
      "baz\n"
     ]
    }
   ],
   "source": [
    "a = ['foo' , 'bar' , 'baz']\n",
    "for i in a :\n",
    "    print(i)"
   ]
  },
  {
   "cell_type": "markdown",
   "metadata": {},
   "source": [
    "contoh diatas <iterable> adalah sebuah list a dan <var> adalah variabel 1. setiap melakukan loop akan mengambil item di dalam list secara berurutan, jadi print pada <statement(s)> akan menampilkan nilai yang ada di dalam list."
   ]
  },
  {
   "cell_type": "code",
   "execution_count": 8,
   "metadata": {},
   "outputs": [
    {
     "name": "stdout",
     "output_type": "stream",
     "text": [
      "current_letter: p\n",
      "current_letter: y\n",
      "current_letter: t\n",
      "current_letter: h\n",
      "current_letter: o\n",
      "current_letter: n\n"
     ]
    }
   ],
   "source": [
    "for letter in 'python' :\n",
    "        print('current_letter:' , letter)"
   ]
  },
  {
   "cell_type": "markdown",
   "metadata": {},
   "source": [
    "### Iterating Through a dictionary"
   ]
  },
  {
   "cell_type": "markdown",
   "metadata": {},
   "source": [
    "Sebagai contoh jika ingin menggunakan dictionary dalam proses loop :"
   ]
  },
  {
   "cell_type": "code",
   "execution_count": 9,
   "metadata": {},
   "outputs": [
    {
     "name": "stdout",
     "output_type": "stream",
     "text": [
      "foo\n",
      "qux\n",
      "bar\n"
     ]
    }
   ],
   "source": [
    "d = {'foo':1,'qux':2,'bar':3}\n",
    "for k in d:\n",
    "    print(k)"
   ]
  },
  {
   "cell_type": "markdown",
   "metadata": {},
   "source": [
    "contoh di atas ketika loop mengakses key dari sebuah dictionary."
   ]
  },
  {
   "cell_type": "code",
   "execution_count": 10,
   "metadata": {},
   "outputs": [
    {
     "name": "stdout",
     "output_type": "stream",
     "text": [
      "1\n",
      "2\n",
      "3\n"
     ]
    }
   ],
   "source": [
    "d = {'foo':1,'qux':2,'bar':3}\n",
    "for k in d:\n",
    "    print(d[k])"
   ]
  },
  {
   "cell_type": "markdown",
   "metadata": {},
   "source": [
    "sedangkan contoh di atas ketika loop mengakses sebuah nilai/value dari sebuah dictionary."
   ]
  },
  {
   "cell_type": "code",
   "execution_count": 12,
   "metadata": {},
   "outputs": [
    {
     "name": "stdout",
     "output_type": "stream",
     "text": [
      "1\n",
      "2\n",
      "3\n"
     ]
    }
   ],
   "source": [
    "for v in d.values():\n",
    "    print(v)"
   ]
  },
  {
   "cell_type": "markdown",
   "metadata": {},
   "source": [
    "contoh lain mengakases value dari sebuah dictionary"
   ]
  },
  {
   "cell_type": "markdown",
   "metadata": {},
   "source": [
    "### 1.2.8 The Range Function"
   ]
  },
  {
   "cell_type": "markdown",
   "metadata": {},
   "source": [
    "fungsi range dapat digunakan pada rentang angka numerik yang besar, contoh :"
   ]
  },
  {
   "cell_type": "code",
   "execution_count": 16,
   "metadata": {},
   "outputs": [
    {
     "name": "stdout",
     "output_type": "stream",
     "text": [
      "0\n",
      "1\n",
      "2\n",
      "3\n",
      "4\n",
      "5\n",
      "6\n",
      "7\n",
      "8\n",
      "9\n"
     ]
    }
   ],
   "source": [
    "x = range(10)\n",
    "for n in x :\n",
    "    print(n)"
   ]
  },
  {
   "cell_type": "markdown",
   "metadata": {},
   "source": [
    "### 1.2.9 Break & Continue Statement pada LOOP"
   ]
  },
  {
   "cell_type": "markdown",
   "metadata": {},
   "source": [
    "break & continue bekerja dengan cara yang sama pada loop, break akan mengakhiri loop sepenuhnya jika kondisi terpenuhi. contoh break :"
   ]
  },
  {
   "cell_type": "code",
   "execution_count": 20,
   "metadata": {},
   "outputs": [
    {
     "name": "stdout",
     "output_type": "stream",
     "text": [
      "0\n",
      "1\n"
     ]
    }
   ],
   "source": [
    "x = range(5)\n",
    "for n in x:\n",
    "    if n == 2 :\n",
    "        break\n",
    "    print(n)"
   ]
  },
  {
   "cell_type": "markdown",
   "metadata": {},
   "source": [
    "Contoh continue :"
   ]
  },
  {
   "cell_type": "code",
   "execution_count": 21,
   "metadata": {},
   "outputs": [
    {
     "name": "stdout",
     "output_type": "stream",
     "text": [
      "0\n",
      "1\n",
      "3\n",
      "4\n"
     ]
    }
   ],
   "source": [
    "x = range(5)\n",
    "for n in x:\n",
    "    if n == 2 :\n",
    "        continue\n",
    "    print(n)"
   ]
  },
  {
   "cell_type": "markdown",
   "metadata": {},
   "source": [
    "Sedangkan dengan continue jika kondisi terpenuhi n = 2 maka angka 2 akan dilewati dan <expr> akan dievaluasi kembali. "
   ]
  },
  {
   "cell_type": "markdown",
   "metadata": {},
   "source": [
    "### 1.2.9 The else clause"
   ]
  },
  {
   "cell_type": "markdown",
   "metadata": {},
   "source": [
    "Loop juga dapat mempunyai klause else. sebagai contoh jika loop berakhir maka klausa else akan dijalakan.\n",
    "contoh :"
   ]
  },
  {
   "cell_type": "code",
   "execution_count": 24,
   "metadata": {},
   "outputs": [
    {
     "name": "stdout",
     "output_type": "stream",
     "text": [
      "4\n",
      "3\n",
      "2\n",
      "1\n",
      "0\n",
      "LOOP DONE\n"
     ]
    }
   ],
   "source": [
    "x = 5\n",
    "while x > 0 :\n",
    "    x -= 1\n",
    "    print(x)\n",
    "else:\n",
    "    print(\"LOOP DONE\")"
   ]
  },
  {
   "cell_type": "code",
   "execution_count": 26,
   "metadata": {},
   "outputs": [
    {
     "name": "stdout",
     "output_type": "stream",
     "text": [
      "0\n",
      "1\n",
      "2\n",
      "3\n",
      "4\n",
      "5\n",
      "6\n",
      "7\n",
      "8\n",
      "9\n",
      "LOOP DONE\n"
     ]
    }
   ],
   "source": [
    "x = range(10)\n",
    "for i in x:\n",
    "    print(i)\n",
    "else:\n",
    "    print('LOOP DONE')"
   ]
  },
  {
   "cell_type": "code",
   "execution_count": null,
   "metadata": {},
   "outputs": [],
   "source": []
  }
 ],
 "metadata": {
  "kernelspec": {
   "display_name": "Python 3",
   "language": "python",
   "name": "python3"
  },
  "language_info": {
   "codemirror_mode": {
    "name": "ipython",
    "version": 3
   },
   "file_extension": ".py",
   "mimetype": "text/x-python",
   "name": "python",
   "nbconvert_exporter": "python",
   "pygments_lexer": "ipython3",
   "version": "3.7.4"
  }
 },
 "nbformat": 4,
 "nbformat_minor": 2
}
