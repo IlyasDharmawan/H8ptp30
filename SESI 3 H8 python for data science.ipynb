{
 "cells": [
  {
   "cell_type": "markdown",
   "metadata": {},
   "source": [
    "# **FUNCTION , MODULE & PACKAGES**"
   ]
  },
  {
   "cell_type": "markdown",
   "metadata": {},
   "source": [
    "## **1. Function**"
   ]
  },
  {
   "cell_type": "markdown",
   "metadata": {},
   "source": [
    "Fungsi pada python diawali dengan syntax \"def\" diikut dengan nama_fungsi dan tanda kurung().\n",
    "Segala parameter / argumen berada di dalam tanda kurung(). Blok program pada fungsi dimulai setelah colon (:) dan terindentasi.\n",
    "Statement return merupakan sebuah statement untuk mengakhiri fungsi, bisa juga untuk mengembalikan nilai / ekspresi kepada pemanggil. jika statement return tidak dengan argumen berarti statement return tidak mengembalikan apa-apa.\n",
    "Contoh syntax function:"
   ]
  },
  {
   "cell_type": "code",
   "execution_count": null,
   "metadata": {},
   "outputs": [],
   "source": [
    "def nama_fungsi(parameter) :\n",
    "    \".....\" #Memulai blok program\n",
    "    statement(s)"
   ]
  },
  {
   "cell_type": "markdown",
   "metadata": {},
   "source": [
    "contoh program:"
   ]
  },
  {
   "cell_type": "code",
   "execution_count": 1,
   "metadata": {},
   "outputs": [
    {
     "name": "stdout",
     "output_type": "stream",
     "text": [
      "Ambil Gelas\n",
      "Tuang kopi\n",
      "Tambah air panas\n",
      "aduk lalu hidangkan\n"
     ]
    }
   ],
   "source": [
    "def bikinKopi():\n",
    "    print(\"Ambil Gelas\")\n",
    "    print(\"Tuang kopi\")\n",
    "    print(\"Tambah air panas\")\n",
    "    print(\"aduk lalu hidangkan\")\n",
    "    \n",
    "bikinKopi() #-->Memanggil sebuah fungsi"
   ]
  },
  {
   "cell_type": "markdown",
   "metadata": {},
   "source": [
    "contoh menggunakan return :"
   ]
  },
  {
   "cell_type": "code",
   "execution_count": 3,
   "metadata": {},
   "outputs": [
    {
     "name": "stdout",
     "output_type": "stream",
     "text": [
      "Coba\n"
     ]
    }
   ],
   "source": [
    "def printme(str):\n",
    "    print(str)\n",
    "    return\n",
    "\n",
    "printme(\"Coba\")\n"
   ]
  },
  {
   "cell_type": "markdown",
   "metadata": {},
   "source": [
    "Contoh diatas menggunakan return dan parameter str dan fungsi tersebut untuk mencetak sebuah string."
   ]
  },
  {
   "cell_type": "markdown",
   "metadata": {},
   "source": [
    "### **Pass by reference vs value**"
   ]
  },
  {
   "cell_type": "code",
   "execution_count": null,
   "metadata": {},
   "outputs": [],
   "source": [
    "def changeme(myList) :\n",
    "    \"Value di dalam function\"\n",
    "    myList = [1,2,3,4];\n",
    "    print(\"Value di dalam function: \", myList)\n",
    "    return\n",
    "\n",
    "myList = [10,20,30,40];\n",
    "changeme(myList);\n",
    "print(\"Value di luar function: \", myList)\n"
   ]
  },
  {
   "cell_type": "markdown",
   "metadata": {},
   "source": [
    "Contoh di atas jika kita merubah sebuah parameter di dalam fungsi maka perubahan tersebut juga akan berpengaruh ketika pemanggilan sebuah fungsi"
   ]
  },
  {
   "cell_type": "markdown",
   "metadata": {},
   "source": [
    "## **Function Argument**"
   ]
  },
  {
   "cell_type": "markdown",
   "metadata": {},
   "source": [
    "- Required Arguments\n",
    "- Keyword Arguments\n",
    "- Default Arguments\n",
    "- Variable-length arguments"
   ]
  },
  {
   "cell_type": "markdown",
   "metadata": {},
   "source": [
    "### Required Arguments"
   ]
  },
  {
   "cell_type": "markdown",
   "metadata": {},
   "source": [
    "Required arguments adalah argumen yang diteruskan ke dalam sebuah fungsi dalam urutan posisi yang benar. \n",
    "Sebagai contoh pada pemanggilan fungsi, argumen harus cocok dengan pendefinisian fungsi."
   ]
  },
  {
   "cell_type": "code",
   "execution_count": 8,
   "metadata": {},
   "outputs": [
    {
     "ename": "TypeError",
     "evalue": "printme() missing 1 required positional argument: 'str'",
     "output_type": "error",
     "traceback": [
      "\u001b[0;31m---------------------------------------------------------------------------\u001b[0m",
      "\u001b[0;31mTypeError\u001b[0m                                 Traceback (most recent call last)",
      "\u001b[0;32m<ipython-input-8-05d9e53a6a71>\u001b[0m in \u001b[0;36m<module>\u001b[0;34m\u001b[0m\n\u001b[1;32m      2\u001b[0m     \u001b[0mprint\u001b[0m\u001b[0;34m(\u001b[0m\u001b[0mstr\u001b[0m\u001b[0;34m)\u001b[0m\u001b[0;34m\u001b[0m\u001b[0;34m\u001b[0m\u001b[0m\n\u001b[1;32m      3\u001b[0m     \u001b[0;32mreturn\u001b[0m\u001b[0;34m\u001b[0m\u001b[0;34m\u001b[0m\u001b[0m\n\u001b[0;32m----> 4\u001b[0;31m \u001b[0mprintme\u001b[0m\u001b[0;34m(\u001b[0m\u001b[0;34m)\u001b[0m\u001b[0;34m\u001b[0m\u001b[0;34m\u001b[0m\u001b[0m\n\u001b[0m",
      "\u001b[0;31mTypeError\u001b[0m: printme() missing 1 required positional argument: 'str'"
     ]
    }
   ],
   "source": [
    "def printme(str) :\n",
    "    print(str)\n",
    "    return\n",
    "printme()"
   ]
  },
  {
   "cell_type": "markdown",
   "metadata": {},
   "source": [
    "contoh di atas error karena pada saat pemanggilan fungsi, argumen yang dipanggil tidak sesuai (printme())."
   ]
  },
  {
   "cell_type": "code",
   "execution_count": 1,
   "metadata": {},
   "outputs": [
    {
     "name": "stdout",
     "output_type": "stream",
     "text": [
      "CONTOH\n"
     ]
    }
   ],
   "source": [
    "def printme(str) :\n",
    "    print(str)\n",
    "    return\n",
    "printme(\"CONTOH\")"
   ]
  },
  {
   "cell_type": "markdown",
   "metadata": {},
   "source": [
    "### Keyword Arguments"
   ]
  },
  {
   "cell_type": "markdown",
   "metadata": {},
   "source": [
    "Keyword arguments harus relate dengan pemanggilan fungsi, jadi sebagai contoh ketika kita membuat  parameter dengan nama \"a\" maka ketika pemanggilan fungsi , argumen akan diidentifikasi sesuai dengan nama parameter.\n",
    "Contoh :"
   ]
  },
  {
   "cell_type": "code",
   "execution_count": 2,
   "metadata": {},
   "outputs": [
    {
     "name": "stdout",
     "output_type": "stream",
     "text": [
      "Hacktiv8\n"
     ]
    }
   ],
   "source": [
    "def printme(str) :\n",
    "    print(str)\n",
    "    return\n",
    "\n",
    "printme(str = 'Hacktiv8')"
   ]
  },
  {
   "cell_type": "markdown",
   "metadata": {},
   "source": [
    "Berikut contoh lebih jelas :"
   ]
  },
  {
   "cell_type": "code",
   "execution_count": 3,
   "metadata": {},
   "outputs": [
    {
     "name": "stdout",
     "output_type": "stream",
     "text": [
      "Name:  jo\n",
      "Age:  4\n"
     ]
    }
   ],
   "source": [
    "def printinfo(name , age):\n",
    "    print(\"Name: \", name)\n",
    "    print(\"Age: \", age)\n",
    "    return\n",
    "\n",
    "printinfo(age = 4 , name = 'jo')"
   ]
  },
  {
   "cell_type": "markdown",
   "metadata": {},
   "source": [
    "Contoh di atas menggambarkan bahwa urutan parameter ketika pemanggilan fungsi tidak bermasalah."
   ]
  },
  {
   "cell_type": "markdown",
   "metadata": {},
   "source": [
    "## **Default Arguments**"
   ]
  },
  {
   "cell_type": "markdown",
   "metadata": {},
   "source": [
    "Default argumen adalah argumen yang mengasumsikan nilai default jika nilai tidak disediakan ketika pemanggilan fungsi."
   ]
  },
  {
   "cell_type": "code",
   "execution_count": 6,
   "metadata": {},
   "outputs": [
    {
     "name": "stdout",
     "output_type": "stream",
     "text": [
      "Name:  jo\n",
      "Age:  25\n",
      "Name:  Al\n",
      "Age:  20\n"
     ]
    }
   ],
   "source": [
    "def printinfo(name , age = 20):\n",
    "    print('Name: ', name)\n",
    "    print('Age: ', age)\n",
    "    return\n",
    "printinfo(name = 'jo', age = 25)\n",
    "printinfo(name = 'Al' ) #---> Default argument"
   ]
  },
  {
   "cell_type": "markdown",
   "metadata": {},
   "source": [
    "Pada contoh di atas terdapat 2 pemanggilan fungsi, dimana pada fungsi pertama (baris 5) parameter name dan age diikutsertakan sedangkan pada fungsi kedua(baris 6) parameter age tidak diikutsertakan maka default argumen pada pendefinisian fungsi akan dijalakan."
   ]
  },
  {
   "cell_type": "markdown",
   "metadata": {},
   "source": [
    "## **Variable Length arguments**"
   ]
  },
  {
   "cell_type": "markdown",
   "metadata": {},
   "source": [
    "Argumen ini disebut variable length argumen dan tidak disebutkan dalam definisi fungsi, tidak seperti argumen yang diperlukan.\n",
    "Syntax untuk Variable Length arguments :"
   ]
  },
  {
   "cell_type": "code",
   "execution_count": null,
   "metadata": {},
   "outputs": [],
   "source": [
    "def function_name ([formal_args], *var_args_tuple):\n",
    "    \"Function docstring\"\n",
    "    function_suite\n",
    "    return\n"
   ]
  },
  {
   "cell_type": "markdown",
   "metadata": {},
   "source": [
    "tanda asterisk (*) diletakkan di depan nama variable yang menyimpan nilai semua argumen variable. Tupel ini akan tetap kosong jika tidak ada argumen tambahan yang ditentukan selama panggilan fungsi.\n",
    "Contoh sederhana : "
   ]
  },
  {
   "cell_type": "code",
   "execution_count": 8,
   "metadata": {},
   "outputs": [
    {
     "name": "stdout",
     "output_type": "stream",
     "text": [
      "output is: \n",
      "10\n",
      "output is: \n",
      "80\n",
      "50\n",
      "20\n"
     ]
    }
   ],
   "source": [
    "def printinfo (arg1, *vartuple) :\n",
    "    \"This prints a variable passed argument\"\n",
    "    print(\"output is: \")\n",
    "    print(arg1)\n",
    "    for var in vartuple:\n",
    "        print(var) #For disini agar menghasilkan output pengulangan ke bawah\n",
    "    return\n",
    "\n",
    "printinfo(10) #----> Pemanggilan fungsi dengan value\n",
    "printinfo(80 , 50 , 20) #---> Pemanggilan fungsi dengan value"
   ]
  },
  {
   "cell_type": "markdown",
   "metadata": {},
   "source": [
    "## **Anonymous Function**"
   ]
  },
  {
   "cell_type": "markdown",
   "metadata": {},
   "source": [
    "Disebut anonymous karena fungsi tersebut tidak dikelrasikan secara standar menggunakan kata kunci def. Kita dapat menggunakan kata kunci lambda untuk membuat fungsi.\n",
    "Syntax fungsi lambda hanya berisi satu pernyataan :"
   ]
  },
  {
   "cell_type": "code",
   "execution_count": null,
   "metadata": {},
   "outputs": [],
   "source": [
    "lambda [arg1 [,arg2,.....argn]] :expression"
   ]
  },
  {
   "cell_type": "markdown",
   "metadata": {},
   "source": [
    "Contoh :"
   ]
  },
  {
   "cell_type": "code",
   "execution_count": 10,
   "metadata": {},
   "outputs": [
    {
     "name": "stdout",
     "output_type": "stream",
     "text": [
      "Value of total :  30\n",
      "Value of total :  40\n"
     ]
    }
   ],
   "source": [
    "#Anonymous funtion = nama fungsi tidak dideklarasikan\n",
    "\n",
    "#function definition is here\n",
    "\n",
    "sum = lambda arg1, arg2: arg1 + arg2; #Penggunaan lambda untuk anonymous function (One-line function)\n",
    "             #parameter : Hal yang dilakukan\n",
    "\n",
    "#Pemangglan function\n",
    "\n",
    "print('Value of total : ', sum(10,20))\n",
    "print('Value of total : ', sum(20,20))\n",
    "\n"
   ]
  },
  {
   "cell_type": "markdown",
   "metadata": {},
   "source": [
    "Perbedaan penggunaan anonymous dengan pemanggilan fungsi biasa :"
   ]
  },
  {
   "cell_type": "code",
   "execution_count": 11,
   "metadata": {},
   "outputs": [
    {
     "name": "stdout",
     "output_type": "stream",
     "text": [
      "125\n",
      "125\n"
     ]
    }
   ],
   "source": [
    "#Perbedaan anonymous dengan pemanggilan biasa\n",
    "\n",
    "def cube(y): #Contoh fungsi biasa menggunakan (def) \n",
    "    return y*y*y;\n",
    "\n",
    "g = lambda x : x*x*x\n",
    "\n",
    "print(cube(5))\n",
    "print(g(5))"
   ]
  },
  {
   "cell_type": "markdown",
   "metadata": {},
   "source": [
    "## **Return Statement**"
   ]
  },
  {
   "cell_type": "markdown",
   "metadata": {},
   "source": [
    "Return statement merupakan sebuah persyaratan untuk mengembalikan [ekspresi] dan keluar dari suatu fungsi. Return statement tanpa argumen sama saja tidak mengembalikan nilai apa pun.\n",
    "Berikut contoh penggunaan return statement dan mengembalikan nilai dari sebuah fungsi :"
   ]
  },
  {
   "cell_type": "code",
   "execution_count": 1,
   "metadata": {},
   "outputs": [
    {
     "name": "stdout",
     "output_type": "stream",
     "text": [
      "Inside the fuction:  30\n",
      "Outside the function :  600\n"
     ]
    }
   ],
   "source": [
    "def sum(arg1, arg2) :\n",
    "    total = arg1 + arg2\n",
    "    total1 = total * arg2\n",
    "    print('Inside the fuction: ', total)\n",
    "    return total1; #---> Pengembalian sebuah fungsi dengan nilai = total\n",
    "\n",
    "#Memanggil function\n",
    "total = sum( 10 , 20 )\n",
    "print('Outside the function : ', total) "
   ]
  },
  {
   "cell_type": "markdown",
   "metadata": {},
   "source": [
    "### **Local variable & Global variable**"
   ]
  },
  {
   "cell_type": "markdown",
   "metadata": {},
   "source": [
    "Local variable merupakan sebuah variabel yang didefinisikan di dalam tubuh fungsi dan hanya dapat diakses di dalam fungsi, sedangkan global variable merupakan sebuah variabel yang didefinisikan diluar fungsi dan dapat diakses di seluruh program.\n",
    "contoh :"
   ]
  },
  {
   "cell_type": "code",
   "execution_count": 6,
   "metadata": {},
   "outputs": [
    {
     "name": "stdout",
     "output_type": "stream",
     "text": [
      "Inside the function local total:  30\n",
      "Outside the function global total:  0\n"
     ]
    }
   ],
   "source": [
    "total = 0 #--> Global variable\n",
    "\n",
    "def cth (arg1, arg2) :\n",
    "    total = arg1 + arg2; #---> Local variable\n",
    "    print(\"Inside the function local total: \", total)\n",
    "    return\n",
    "\n",
    "cth(10,20)\n",
    "print(\"Outside the function global total: \", total)"
   ]
  },
  {
   "cell_type": "markdown",
   "metadata": {},
   "source": [
    "## **2. MODULE**"
   ]
  },
  {
   "cell_type": "markdown",
   "metadata": {},
   "source": [
    "Untuk mengaplikasi module pada python maka kita memerlukan sebuah file yang berisi kode python dan memberi nama file tersebuta dengan ekstensi .py. \n",
    "Sebagai contoh kita membuat sebuah file dengan nama mod.py :"
   ]
  },
  {
   "cell_type": "code",
   "execution_count": 7,
   "metadata": {},
   "outputs": [],
   "source": [
    "s = \"Hacktiv8- PTP Python for data Science\"\n",
    "a = [100, 200, 300]\n",
    "\n",
    "def foo(arg):\n",
    "    print(f'arg = [arg]')\n",
    "    \n",
    "class foo:\n",
    "    pass"
   ]
  },
  {
   "cell_type": "markdown",
   "metadata": {},
   "source": [
    "Setelah membuat file pada text editor (Visual Studio Code) kita dapat membuka terminal yg ada pada vs code lalu masuk ke dalam python3 di terminal, untuk mengimport sebuah module memiliki syntax:"
   ]
  },
  {
   "cell_type": "code",
   "execution_count": null,
   "metadata": {},
   "outputs": [],
   "source": [
    "import nama_module"
   ]
  },
  {
   "cell_type": "markdown",
   "metadata": {},
   "source": [
    "Contoh :"
   ]
  },
  {
   "cell_type": "code",
   "execution_count": null,
   "metadata": {},
   "outputs": [],
   "source": [
    "import.mod #Mengimport module \n",
    "print(mod.s) #Memanggil variable yang ada di dalam file (nama_file.variable)"
   ]
  },
  {
   "cell_type": "markdown",
   "metadata": {},
   "source": [
    "## **Search Path**"
   ]
  },
  {
   "cell_type": "markdown",
   "metadata": {},
   "source": [
    "Untuk mengetahui daftar direkotri yang terkandung pada environment, kita dapat menggunakan syntax :"
   ]
  },
  {
   "cell_type": "code",
   "execution_count": null,
   "metadata": {},
   "outputs": [],
   "source": [
    "import sys #sys = system\n",
    "sys.path #Menampilkan direktori2 \n",
    "\n",
    "sys.path.append(r'/Home/abc/Desktop/H8py) #Menambahkan folder ke dalam direktori"
   ]
  },
  {
   "cell_type": "markdown",
   "metadata": {},
   "source": [
    "### **From nama_file import nama_objek**"
   ]
  },
  {
   "cell_type": "markdown",
   "metadata": {},
   "source": [
    "Sebuah bentuk alternatif dari pernyataan impor untuk mengimpor objek tertentu."
   ]
  },
  {
   "cell_type": "code",
   "execution_count": null,
   "metadata": {},
   "outputs": [],
   "source": [
    "from <nama_modul> import <objek>"
   ]
  },
  {
   "cell_type": "code",
   "execution_count": null,
   "metadata": {},
   "outputs": [],
   "source": [
    "from mod import s,a"
   ]
  },
  {
   "cell_type": "code",
   "execution_count": 8,
   "metadata": {},
   "outputs": [],
   "source": [
    "from nama_file import nama_objek as <alternate_name> #Syntax mengimpor objek dengan nama alternatif"
   ]
  },
  {
   "cell_type": "code",
   "execution_count": null,
   "metadata": {},
   "outputs": [],
   "source": [
    "from mod import s as string , a as alist"
   ]
  },
  {
   "cell_type": "code",
   "execution_count": null,
   "metadata": {},
   "outputs": [],
   "source": [
    "import mod as mod1 #syntax penggunaan nama alternatif untuk nama file"
   ]
  },
  {
   "cell_type": "markdown",
   "metadata": {},
   "source": [
    "## **3. PACKAGES**"
   ]
  },
  {
   "cell_type": "markdown",
   "metadata": {},
   "source": [
    "Menggambungkan beberapa modul"
   ]
  },
  {
   "cell_type": "markdown",
   "metadata": {},
   "source": [
    "Langkah membuat packages :\n",
    "- Membuat folder bernama pkg\n",
    "- membuat 2 file module di dalam folder tersebut sebagai contoh mod1.py & mod2.py"
   ]
  },
  {
   "cell_type": "markdown",
   "metadata": {},
   "source": [
    "mod1.py :"
   ]
  },
  {
   "cell_type": "code",
   "execution_count": null,
   "metadata": {},
   "outputs": [],
   "source": [
    "def foo():\n",
    "    print('[mod1] foo()')\n",
    "\n",
    "class Foo:\n",
    "    pass"
   ]
  },
  {
   "cell_type": "markdown",
   "metadata": {},
   "source": [
    "mod2.py :"
   ]
  },
  {
   "cell_type": "code",
   "execution_count": null,
   "metadata": {},
   "outputs": [],
   "source": [
    "def bar():\n",
    "    print('[mod2] bar()')\n",
    "\n",
    "class bar():\n",
    "    foo"
   ]
  },
  {
   "cell_type": "markdown",
   "metadata": {},
   "source": [
    "Syntax untuk menggunakan sebuah package :\n",
    "import nama_package.nama_modul , nama_package.nama_modul.\n",
    "contoh :"
   ]
  },
  {
   "cell_type": "code",
   "execution_count": null,
   "metadata": {},
   "outputs": [],
   "source": [
    "import pkg.mod1, pkg.mod2\n",
    "\n",
    "pkg.mod1.foo() #--> Menjalakan fungsi foo pada module mod1\n",
    "\n",
    "pkg.mod2.bar() #-->Menjalakan fungsi bar pada module mod2"
   ]
  },
  {
   "cell_type": "markdown",
   "metadata": {},
   "source": [
    "## **Installing PIP**"
   ]
  },
  {
   "cell_type": "markdown",
   "metadata": {},
   "source": [
    "Langkah untuk menginstall pip :\n",
    "\n",
    "Command pip help merupakan langkah untuk mempelajari perintah-perintah yang didukung oleh pip\n",
    "- pip help\n",
    "\n",
    "Langkah kedua untuk menjalakan instalasi package yang ada di dalam pip.\n",
    "- pip install package_name\n",
    "\n",
    "Jika ingin memperbarui pip, dapat menggunakan :\n",
    "- python -m pip install --upgrade pip\n",
    "\n",
    "Untuk melihat package yang telah terinstall dapat menggunakan command\n",
    "- pip list\n",
    "\n",
    "Uinstall package pada pip\n",
    "- pip uinstall nama_package"
   ]
  }
 ],
 "metadata": {
  "kernelspec": {
   "display_name": "Python 3",
   "language": "python",
   "name": "python3"
  },
  "language_info": {
   "codemirror_mode": {
    "name": "ipython",
    "version": 3
   },
   "file_extension": ".py",
   "mimetype": "text/x-python",
   "name": "python",
   "nbconvert_exporter": "python",
   "pygments_lexer": "ipython3",
   "version": "3.7.4"
  }
 },
 "nbformat": 4,
 "nbformat_minor": 2
}
